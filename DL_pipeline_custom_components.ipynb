{
  "nbformat": 4,
  "nbformat_minor": 0,
  "metadata": {
    "colab": {
      "provenance": [],
      "authorship_tag": "ABX9TyOQYxt9DeG0k29VT3dDLGmi",
      "include_colab_link": true
    },
    "kernelspec": {
      "name": "python3",
      "display_name": "Python 3"
    },
    "language_info": {
      "name": "python"
    },
    "widgets": {
      "application/vnd.jupyter.widget-state+json": {
        "617bf7e2ca5e4a778dcb883733732281": {
          "model_module": "@jupyter-widgets/controls",
          "model_name": "HBoxModel",
          "model_module_version": "1.5.0",
          "state": {
            "_dom_classes": [],
            "_model_module": "@jupyter-widgets/controls",
            "_model_module_version": "1.5.0",
            "_model_name": "HBoxModel",
            "_view_count": null,
            "_view_module": "@jupyter-widgets/controls",
            "_view_module_version": "1.5.0",
            "_view_name": "HBoxView",
            "box_style": "",
            "children": [
              "IPY_MODEL_2e0e349a464d49c8a4688b2706d7621a",
              "IPY_MODEL_61d9cb0bee3444ffb299dcdd52f20f50",
              "IPY_MODEL_a01f681457c84032ade172bf648f4c3d"
            ],
            "layout": "IPY_MODEL_476ccde98e09483f86c7e4745077e756"
          }
        },
        "2e0e349a464d49c8a4688b2706d7621a": {
          "model_module": "@jupyter-widgets/controls",
          "model_name": "HTMLModel",
          "model_module_version": "1.5.0",
          "state": {
            "_dom_classes": [],
            "_model_module": "@jupyter-widgets/controls",
            "_model_module_version": "1.5.0",
            "_model_name": "HTMLModel",
            "_view_count": null,
            "_view_module": "@jupyter-widgets/controls",
            "_view_module_version": "1.5.0",
            "_view_name": "HTMLView",
            "description": "",
            "description_tooltip": null,
            "layout": "IPY_MODEL_155927b7e08741998a5b6ff3f41238a3",
            "placeholder": "​",
            "style": "IPY_MODEL_085a4a23af9441cda25e486d15a08409",
            "value": "Dl Completed...: 100%"
          }
        },
        "61d9cb0bee3444ffb299dcdd52f20f50": {
          "model_module": "@jupyter-widgets/controls",
          "model_name": "FloatProgressModel",
          "model_module_version": "1.5.0",
          "state": {
            "_dom_classes": [],
            "_model_module": "@jupyter-widgets/controls",
            "_model_module_version": "1.5.0",
            "_model_name": "FloatProgressModel",
            "_view_count": null,
            "_view_module": "@jupyter-widgets/controls",
            "_view_module_version": "1.5.0",
            "_view_name": "ProgressView",
            "bar_style": "success",
            "description": "",
            "description_tooltip": null,
            "layout": "IPY_MODEL_0d2e28c519cd472295231967009d2930",
            "max": 1,
            "min": 0,
            "orientation": "horizontal",
            "style": "IPY_MODEL_34500a0066444cd7b524f10682396351",
            "value": 1
          }
        },
        "a01f681457c84032ade172bf648f4c3d": {
          "model_module": "@jupyter-widgets/controls",
          "model_name": "HTMLModel",
          "model_module_version": "1.5.0",
          "state": {
            "_dom_classes": [],
            "_model_module": "@jupyter-widgets/controls",
            "_model_module_version": "1.5.0",
            "_model_name": "HTMLModel",
            "_view_count": null,
            "_view_module": "@jupyter-widgets/controls",
            "_view_module_version": "1.5.0",
            "_view_name": "HTMLView",
            "description": "",
            "description_tooltip": null,
            "layout": "IPY_MODEL_32e845a85605416d9d2228ca3e2b3fcf",
            "placeholder": "​",
            "style": "IPY_MODEL_36fa7f3857a4459098fd93ba95f97644",
            "value": " 1/1 [00:13&lt;00:00, 13.03s/ url]"
          }
        },
        "476ccde98e09483f86c7e4745077e756": {
          "model_module": "@jupyter-widgets/base",
          "model_name": "LayoutModel",
          "model_module_version": "1.2.0",
          "state": {
            "_model_module": "@jupyter-widgets/base",
            "_model_module_version": "1.2.0",
            "_model_name": "LayoutModel",
            "_view_count": null,
            "_view_module": "@jupyter-widgets/base",
            "_view_module_version": "1.2.0",
            "_view_name": "LayoutView",
            "align_content": null,
            "align_items": null,
            "align_self": null,
            "border": null,
            "bottom": null,
            "display": null,
            "flex": null,
            "flex_flow": null,
            "grid_area": null,
            "grid_auto_columns": null,
            "grid_auto_flow": null,
            "grid_auto_rows": null,
            "grid_column": null,
            "grid_gap": null,
            "grid_row": null,
            "grid_template_areas": null,
            "grid_template_columns": null,
            "grid_template_rows": null,
            "height": null,
            "justify_content": null,
            "justify_items": null,
            "left": null,
            "margin": null,
            "max_height": null,
            "max_width": null,
            "min_height": null,
            "min_width": null,
            "object_fit": null,
            "object_position": null,
            "order": null,
            "overflow": null,
            "overflow_x": null,
            "overflow_y": null,
            "padding": null,
            "right": null,
            "top": null,
            "visibility": null,
            "width": null
          }
        },
        "155927b7e08741998a5b6ff3f41238a3": {
          "model_module": "@jupyter-widgets/base",
          "model_name": "LayoutModel",
          "model_module_version": "1.2.0",
          "state": {
            "_model_module": "@jupyter-widgets/base",
            "_model_module_version": "1.2.0",
            "_model_name": "LayoutModel",
            "_view_count": null,
            "_view_module": "@jupyter-widgets/base",
            "_view_module_version": "1.2.0",
            "_view_name": "LayoutView",
            "align_content": null,
            "align_items": null,
            "align_self": null,
            "border": null,
            "bottom": null,
            "display": null,
            "flex": null,
            "flex_flow": null,
            "grid_area": null,
            "grid_auto_columns": null,
            "grid_auto_flow": null,
            "grid_auto_rows": null,
            "grid_column": null,
            "grid_gap": null,
            "grid_row": null,
            "grid_template_areas": null,
            "grid_template_columns": null,
            "grid_template_rows": null,
            "height": null,
            "justify_content": null,
            "justify_items": null,
            "left": null,
            "margin": null,
            "max_height": null,
            "max_width": null,
            "min_height": null,
            "min_width": null,
            "object_fit": null,
            "object_position": null,
            "order": null,
            "overflow": null,
            "overflow_x": null,
            "overflow_y": null,
            "padding": null,
            "right": null,
            "top": null,
            "visibility": null,
            "width": null
          }
        },
        "085a4a23af9441cda25e486d15a08409": {
          "model_module": "@jupyter-widgets/controls",
          "model_name": "DescriptionStyleModel",
          "model_module_version": "1.5.0",
          "state": {
            "_model_module": "@jupyter-widgets/controls",
            "_model_module_version": "1.5.0",
            "_model_name": "DescriptionStyleModel",
            "_view_count": null,
            "_view_module": "@jupyter-widgets/base",
            "_view_module_version": "1.2.0",
            "_view_name": "StyleView",
            "description_width": ""
          }
        },
        "0d2e28c519cd472295231967009d2930": {
          "model_module": "@jupyter-widgets/base",
          "model_name": "LayoutModel",
          "model_module_version": "1.2.0",
          "state": {
            "_model_module": "@jupyter-widgets/base",
            "_model_module_version": "1.2.0",
            "_model_name": "LayoutModel",
            "_view_count": null,
            "_view_module": "@jupyter-widgets/base",
            "_view_module_version": "1.2.0",
            "_view_name": "LayoutView",
            "align_content": null,
            "align_items": null,
            "align_self": null,
            "border": null,
            "bottom": null,
            "display": null,
            "flex": null,
            "flex_flow": null,
            "grid_area": null,
            "grid_auto_columns": null,
            "grid_auto_flow": null,
            "grid_auto_rows": null,
            "grid_column": null,
            "grid_gap": null,
            "grid_row": null,
            "grid_template_areas": null,
            "grid_template_columns": null,
            "grid_template_rows": null,
            "height": null,
            "justify_content": null,
            "justify_items": null,
            "left": null,
            "margin": null,
            "max_height": null,
            "max_width": null,
            "min_height": null,
            "min_width": null,
            "object_fit": null,
            "object_position": null,
            "order": null,
            "overflow": null,
            "overflow_x": null,
            "overflow_y": null,
            "padding": null,
            "right": null,
            "top": null,
            "visibility": null,
            "width": "20px"
          }
        },
        "34500a0066444cd7b524f10682396351": {
          "model_module": "@jupyter-widgets/controls",
          "model_name": "ProgressStyleModel",
          "model_module_version": "1.5.0",
          "state": {
            "_model_module": "@jupyter-widgets/controls",
            "_model_module_version": "1.5.0",
            "_model_name": "ProgressStyleModel",
            "_view_count": null,
            "_view_module": "@jupyter-widgets/base",
            "_view_module_version": "1.2.0",
            "_view_name": "StyleView",
            "bar_color": null,
            "description_width": ""
          }
        },
        "32e845a85605416d9d2228ca3e2b3fcf": {
          "model_module": "@jupyter-widgets/base",
          "model_name": "LayoutModel",
          "model_module_version": "1.2.0",
          "state": {
            "_model_module": "@jupyter-widgets/base",
            "_model_module_version": "1.2.0",
            "_model_name": "LayoutModel",
            "_view_count": null,
            "_view_module": "@jupyter-widgets/base",
            "_view_module_version": "1.2.0",
            "_view_name": "LayoutView",
            "align_content": null,
            "align_items": null,
            "align_self": null,
            "border": null,
            "bottom": null,
            "display": null,
            "flex": null,
            "flex_flow": null,
            "grid_area": null,
            "grid_auto_columns": null,
            "grid_auto_flow": null,
            "grid_auto_rows": null,
            "grid_column": null,
            "grid_gap": null,
            "grid_row": null,
            "grid_template_areas": null,
            "grid_template_columns": null,
            "grid_template_rows": null,
            "height": null,
            "justify_content": null,
            "justify_items": null,
            "left": null,
            "margin": null,
            "max_height": null,
            "max_width": null,
            "min_height": null,
            "min_width": null,
            "object_fit": null,
            "object_position": null,
            "order": null,
            "overflow": null,
            "overflow_x": null,
            "overflow_y": null,
            "padding": null,
            "right": null,
            "top": null,
            "visibility": null,
            "width": null
          }
        },
        "36fa7f3857a4459098fd93ba95f97644": {
          "model_module": "@jupyter-widgets/controls",
          "model_name": "DescriptionStyleModel",
          "model_module_version": "1.5.0",
          "state": {
            "_model_module": "@jupyter-widgets/controls",
            "_model_module_version": "1.5.0",
            "_model_name": "DescriptionStyleModel",
            "_view_count": null,
            "_view_module": "@jupyter-widgets/base",
            "_view_module_version": "1.2.0",
            "_view_name": "StyleView",
            "description_width": ""
          }
        },
        "14070a0729b042118282d0940e0cf441": {
          "model_module": "@jupyter-widgets/controls",
          "model_name": "HBoxModel",
          "model_module_version": "1.5.0",
          "state": {
            "_dom_classes": [],
            "_model_module": "@jupyter-widgets/controls",
            "_model_module_version": "1.5.0",
            "_model_name": "HBoxModel",
            "_view_count": null,
            "_view_module": "@jupyter-widgets/controls",
            "_view_module_version": "1.5.0",
            "_view_name": "HBoxView",
            "box_style": "",
            "children": [
              "IPY_MODEL_6eb0b1db74fe463c856975065364efe2",
              "IPY_MODEL_f970b1b5ecf64c2abc25c49693958747",
              "IPY_MODEL_d145c060086f47fc9e7c8ffe06b301d3"
            ],
            "layout": "IPY_MODEL_0cc89b0f24a241f795b5143bb7ae6e88"
          }
        },
        "6eb0b1db74fe463c856975065364efe2": {
          "model_module": "@jupyter-widgets/controls",
          "model_name": "HTMLModel",
          "model_module_version": "1.5.0",
          "state": {
            "_dom_classes": [],
            "_model_module": "@jupyter-widgets/controls",
            "_model_module_version": "1.5.0",
            "_model_name": "HTMLModel",
            "_view_count": null,
            "_view_module": "@jupyter-widgets/controls",
            "_view_module_version": "1.5.0",
            "_view_name": "HTMLView",
            "description": "",
            "description_tooltip": null,
            "layout": "IPY_MODEL_2c4594cc675d4577b1ac63dd4824dc1e",
            "placeholder": "​",
            "style": "IPY_MODEL_05992e5d51d24c0ca588db7c43fc09e6",
            "value": "Dl Size...: 100%"
          }
        },
        "f970b1b5ecf64c2abc25c49693958747": {
          "model_module": "@jupyter-widgets/controls",
          "model_name": "FloatProgressModel",
          "model_module_version": "1.5.0",
          "state": {
            "_dom_classes": [],
            "_model_module": "@jupyter-widgets/controls",
            "_model_module_version": "1.5.0",
            "_model_name": "FloatProgressModel",
            "_view_count": null,
            "_view_module": "@jupyter-widgets/controls",
            "_view_module_version": "1.5.0",
            "_view_name": "ProgressView",
            "bar_style": "success",
            "description": "",
            "description_tooltip": null,
            "layout": "IPY_MODEL_0048643c9cae43a4b83bc72965527a9d",
            "max": 1,
            "min": 0,
            "orientation": "horizontal",
            "style": "IPY_MODEL_f3b701dd368d4ea1bec978fc3b2c994d",
            "value": 1
          }
        },
        "d145c060086f47fc9e7c8ffe06b301d3": {
          "model_module": "@jupyter-widgets/controls",
          "model_name": "HTMLModel",
          "model_module_version": "1.5.0",
          "state": {
            "_dom_classes": [],
            "_model_module": "@jupyter-widgets/controls",
            "_model_module_version": "1.5.0",
            "_model_name": "HTMLModel",
            "_view_count": null,
            "_view_module": "@jupyter-widgets/controls",
            "_view_module_version": "1.5.0",
            "_view_name": "HTMLView",
            "description": "",
            "description_tooltip": null,
            "layout": "IPY_MODEL_bd4f74fc1a8c4294a11a22fecfc5b629",
            "placeholder": "​",
            "style": "IPY_MODEL_53bc065e60a84e898c8c2fd926347fcc",
            "value": " 786/786 [00:12&lt;00:00, 75.26 MiB/s]"
          }
        },
        "0cc89b0f24a241f795b5143bb7ae6e88": {
          "model_module": "@jupyter-widgets/base",
          "model_name": "LayoutModel",
          "model_module_version": "1.2.0",
          "state": {
            "_model_module": "@jupyter-widgets/base",
            "_model_module_version": "1.2.0",
            "_model_name": "LayoutModel",
            "_view_count": null,
            "_view_module": "@jupyter-widgets/base",
            "_view_module_version": "1.2.0",
            "_view_name": "LayoutView",
            "align_content": null,
            "align_items": null,
            "align_self": null,
            "border": null,
            "bottom": null,
            "display": null,
            "flex": null,
            "flex_flow": null,
            "grid_area": null,
            "grid_auto_columns": null,
            "grid_auto_flow": null,
            "grid_auto_rows": null,
            "grid_column": null,
            "grid_gap": null,
            "grid_row": null,
            "grid_template_areas": null,
            "grid_template_columns": null,
            "grid_template_rows": null,
            "height": null,
            "justify_content": null,
            "justify_items": null,
            "left": null,
            "margin": null,
            "max_height": null,
            "max_width": null,
            "min_height": null,
            "min_width": null,
            "object_fit": null,
            "object_position": null,
            "order": null,
            "overflow": null,
            "overflow_x": null,
            "overflow_y": null,
            "padding": null,
            "right": null,
            "top": null,
            "visibility": null,
            "width": null
          }
        },
        "2c4594cc675d4577b1ac63dd4824dc1e": {
          "model_module": "@jupyter-widgets/base",
          "model_name": "LayoutModel",
          "model_module_version": "1.2.0",
          "state": {
            "_model_module": "@jupyter-widgets/base",
            "_model_module_version": "1.2.0",
            "_model_name": "LayoutModel",
            "_view_count": null,
            "_view_module": "@jupyter-widgets/base",
            "_view_module_version": "1.2.0",
            "_view_name": "LayoutView",
            "align_content": null,
            "align_items": null,
            "align_self": null,
            "border": null,
            "bottom": null,
            "display": null,
            "flex": null,
            "flex_flow": null,
            "grid_area": null,
            "grid_auto_columns": null,
            "grid_auto_flow": null,
            "grid_auto_rows": null,
            "grid_column": null,
            "grid_gap": null,
            "grid_row": null,
            "grid_template_areas": null,
            "grid_template_columns": null,
            "grid_template_rows": null,
            "height": null,
            "justify_content": null,
            "justify_items": null,
            "left": null,
            "margin": null,
            "max_height": null,
            "max_width": null,
            "min_height": null,
            "min_width": null,
            "object_fit": null,
            "object_position": null,
            "order": null,
            "overflow": null,
            "overflow_x": null,
            "overflow_y": null,
            "padding": null,
            "right": null,
            "top": null,
            "visibility": null,
            "width": null
          }
        },
        "05992e5d51d24c0ca588db7c43fc09e6": {
          "model_module": "@jupyter-widgets/controls",
          "model_name": "DescriptionStyleModel",
          "model_module_version": "1.5.0",
          "state": {
            "_model_module": "@jupyter-widgets/controls",
            "_model_module_version": "1.5.0",
            "_model_name": "DescriptionStyleModel",
            "_view_count": null,
            "_view_module": "@jupyter-widgets/base",
            "_view_module_version": "1.2.0",
            "_view_name": "StyleView",
            "description_width": ""
          }
        },
        "0048643c9cae43a4b83bc72965527a9d": {
          "model_module": "@jupyter-widgets/base",
          "model_name": "LayoutModel",
          "model_module_version": "1.2.0",
          "state": {
            "_model_module": "@jupyter-widgets/base",
            "_model_module_version": "1.2.0",
            "_model_name": "LayoutModel",
            "_view_count": null,
            "_view_module": "@jupyter-widgets/base",
            "_view_module_version": "1.2.0",
            "_view_name": "LayoutView",
            "align_content": null,
            "align_items": null,
            "align_self": null,
            "border": null,
            "bottom": null,
            "display": null,
            "flex": null,
            "flex_flow": null,
            "grid_area": null,
            "grid_auto_columns": null,
            "grid_auto_flow": null,
            "grid_auto_rows": null,
            "grid_column": null,
            "grid_gap": null,
            "grid_row": null,
            "grid_template_areas": null,
            "grid_template_columns": null,
            "grid_template_rows": null,
            "height": null,
            "justify_content": null,
            "justify_items": null,
            "left": null,
            "margin": null,
            "max_height": null,
            "max_width": null,
            "min_height": null,
            "min_width": null,
            "object_fit": null,
            "object_position": null,
            "order": null,
            "overflow": null,
            "overflow_x": null,
            "overflow_y": null,
            "padding": null,
            "right": null,
            "top": null,
            "visibility": null,
            "width": "20px"
          }
        },
        "f3b701dd368d4ea1bec978fc3b2c994d": {
          "model_module": "@jupyter-widgets/controls",
          "model_name": "ProgressStyleModel",
          "model_module_version": "1.5.0",
          "state": {
            "_model_module": "@jupyter-widgets/controls",
            "_model_module_version": "1.5.0",
            "_model_name": "ProgressStyleModel",
            "_view_count": null,
            "_view_module": "@jupyter-widgets/base",
            "_view_module_version": "1.2.0",
            "_view_name": "StyleView",
            "bar_color": null,
            "description_width": ""
          }
        },
        "bd4f74fc1a8c4294a11a22fecfc5b629": {
          "model_module": "@jupyter-widgets/base",
          "model_name": "LayoutModel",
          "model_module_version": "1.2.0",
          "state": {
            "_model_module": "@jupyter-widgets/base",
            "_model_module_version": "1.2.0",
            "_model_name": "LayoutModel",
            "_view_count": null,
            "_view_module": "@jupyter-widgets/base",
            "_view_module_version": "1.2.0",
            "_view_name": "LayoutView",
            "align_content": null,
            "align_items": null,
            "align_self": null,
            "border": null,
            "bottom": null,
            "display": null,
            "flex": null,
            "flex_flow": null,
            "grid_area": null,
            "grid_auto_columns": null,
            "grid_auto_flow": null,
            "grid_auto_rows": null,
            "grid_column": null,
            "grid_gap": null,
            "grid_row": null,
            "grid_template_areas": null,
            "grid_template_columns": null,
            "grid_template_rows": null,
            "height": null,
            "justify_content": null,
            "justify_items": null,
            "left": null,
            "margin": null,
            "max_height": null,
            "max_width": null,
            "min_height": null,
            "min_width": null,
            "object_fit": null,
            "object_position": null,
            "order": null,
            "overflow": null,
            "overflow_x": null,
            "overflow_y": null,
            "padding": null,
            "right": null,
            "top": null,
            "visibility": null,
            "width": null
          }
        },
        "53bc065e60a84e898c8c2fd926347fcc": {
          "model_module": "@jupyter-widgets/controls",
          "model_name": "DescriptionStyleModel",
          "model_module_version": "1.5.0",
          "state": {
            "_model_module": "@jupyter-widgets/controls",
            "_model_module_version": "1.5.0",
            "_model_name": "DescriptionStyleModel",
            "_view_count": null,
            "_view_module": "@jupyter-widgets/base",
            "_view_module_version": "1.2.0",
            "_view_name": "StyleView",
            "description_width": ""
          }
        },
        "3c90dc7eef9243d79d060224a1e0071f": {
          "model_module": "@jupyter-widgets/controls",
          "model_name": "HBoxModel",
          "model_module_version": "1.5.0",
          "state": {
            "_dom_classes": [],
            "_model_module": "@jupyter-widgets/controls",
            "_model_module_version": "1.5.0",
            "_model_name": "HBoxModel",
            "_view_count": null,
            "_view_module": "@jupyter-widgets/controls",
            "_view_module_version": "1.5.0",
            "_view_name": "HBoxView",
            "box_style": "",
            "children": [
              "IPY_MODEL_b8f8115fbcd94bc2b8eaac6a9d128df9",
              "IPY_MODEL_666c0314ecd044b49c49970dd8342f22",
              "IPY_MODEL_79644a6d96ae4035b61ce8827c5d72a6"
            ],
            "layout": "IPY_MODEL_04a2256151214fc5af46eabfa8c17864"
          }
        },
        "b8f8115fbcd94bc2b8eaac6a9d128df9": {
          "model_module": "@jupyter-widgets/controls",
          "model_name": "HTMLModel",
          "model_module_version": "1.5.0",
          "state": {
            "_dom_classes": [],
            "_model_module": "@jupyter-widgets/controls",
            "_model_module_version": "1.5.0",
            "_model_name": "HTMLModel",
            "_view_count": null,
            "_view_module": "@jupyter-widgets/controls",
            "_view_module_version": "1.5.0",
            "_view_name": "HTMLView",
            "description": "",
            "description_tooltip": null,
            "layout": "IPY_MODEL_24218a8881004b55a49b81fa72abce2f",
            "placeholder": "​",
            "style": "IPY_MODEL_593abcef7c354cc6976e54906e92d3ef",
            "value": "Generating splits...: 100%"
          }
        },
        "666c0314ecd044b49c49970dd8342f22": {
          "model_module": "@jupyter-widgets/controls",
          "model_name": "FloatProgressModel",
          "model_module_version": "1.5.0",
          "state": {
            "_dom_classes": [],
            "_model_module": "@jupyter-widgets/controls",
            "_model_module_version": "1.5.0",
            "_model_name": "FloatProgressModel",
            "_view_count": null,
            "_view_module": "@jupyter-widgets/controls",
            "_view_module_version": "1.5.0",
            "_view_name": "ProgressView",
            "bar_style": "",
            "description": "",
            "description_tooltip": null,
            "layout": "IPY_MODEL_05f93d77082a4d178b3bd36be63abb7b",
            "max": 1,
            "min": 0,
            "orientation": "horizontal",
            "style": "IPY_MODEL_02095e6a98b541b98ca5122207c22d4e",
            "value": 1
          }
        },
        "79644a6d96ae4035b61ce8827c5d72a6": {
          "model_module": "@jupyter-widgets/controls",
          "model_name": "HTMLModel",
          "model_module_version": "1.5.0",
          "state": {
            "_dom_classes": [],
            "_model_module": "@jupyter-widgets/controls",
            "_model_module_version": "1.5.0",
            "_model_name": "HTMLModel",
            "_view_count": null,
            "_view_module": "@jupyter-widgets/controls",
            "_view_module_version": "1.5.0",
            "_view_name": "HTMLView",
            "description": "",
            "description_tooltip": null,
            "layout": "IPY_MODEL_57ae677c9c4245aabe75a5c5177412c8",
            "placeholder": "​",
            "style": "IPY_MODEL_9c0f5308583a4dd681396922fc1dc0d1",
            "value": " 1/1 [00:16&lt;00:00, 16.01s/ splits]"
          }
        },
        "04a2256151214fc5af46eabfa8c17864": {
          "model_module": "@jupyter-widgets/base",
          "model_name": "LayoutModel",
          "model_module_version": "1.2.0",
          "state": {
            "_model_module": "@jupyter-widgets/base",
            "_model_module_version": "1.2.0",
            "_model_name": "LayoutModel",
            "_view_count": null,
            "_view_module": "@jupyter-widgets/base",
            "_view_module_version": "1.2.0",
            "_view_name": "LayoutView",
            "align_content": null,
            "align_items": null,
            "align_self": null,
            "border": null,
            "bottom": null,
            "display": null,
            "flex": null,
            "flex_flow": null,
            "grid_area": null,
            "grid_auto_columns": null,
            "grid_auto_flow": null,
            "grid_auto_rows": null,
            "grid_column": null,
            "grid_gap": null,
            "grid_row": null,
            "grid_template_areas": null,
            "grid_template_columns": null,
            "grid_template_rows": null,
            "height": null,
            "justify_content": null,
            "justify_items": null,
            "left": null,
            "margin": null,
            "max_height": null,
            "max_width": null,
            "min_height": null,
            "min_width": null,
            "object_fit": null,
            "object_position": null,
            "order": null,
            "overflow": null,
            "overflow_x": null,
            "overflow_y": null,
            "padding": null,
            "right": null,
            "top": null,
            "visibility": "hidden",
            "width": null
          }
        },
        "24218a8881004b55a49b81fa72abce2f": {
          "model_module": "@jupyter-widgets/base",
          "model_name": "LayoutModel",
          "model_module_version": "1.2.0",
          "state": {
            "_model_module": "@jupyter-widgets/base",
            "_model_module_version": "1.2.0",
            "_model_name": "LayoutModel",
            "_view_count": null,
            "_view_module": "@jupyter-widgets/base",
            "_view_module_version": "1.2.0",
            "_view_name": "LayoutView",
            "align_content": null,
            "align_items": null,
            "align_self": null,
            "border": null,
            "bottom": null,
            "display": null,
            "flex": null,
            "flex_flow": null,
            "grid_area": null,
            "grid_auto_columns": null,
            "grid_auto_flow": null,
            "grid_auto_rows": null,
            "grid_column": null,
            "grid_gap": null,
            "grid_row": null,
            "grid_template_areas": null,
            "grid_template_columns": null,
            "grid_template_rows": null,
            "height": null,
            "justify_content": null,
            "justify_items": null,
            "left": null,
            "margin": null,
            "max_height": null,
            "max_width": null,
            "min_height": null,
            "min_width": null,
            "object_fit": null,
            "object_position": null,
            "order": null,
            "overflow": null,
            "overflow_x": null,
            "overflow_y": null,
            "padding": null,
            "right": null,
            "top": null,
            "visibility": null,
            "width": null
          }
        },
        "593abcef7c354cc6976e54906e92d3ef": {
          "model_module": "@jupyter-widgets/controls",
          "model_name": "DescriptionStyleModel",
          "model_module_version": "1.5.0",
          "state": {
            "_model_module": "@jupyter-widgets/controls",
            "_model_module_version": "1.5.0",
            "_model_name": "DescriptionStyleModel",
            "_view_count": null,
            "_view_module": "@jupyter-widgets/base",
            "_view_module_version": "1.2.0",
            "_view_name": "StyleView",
            "description_width": ""
          }
        },
        "05f93d77082a4d178b3bd36be63abb7b": {
          "model_module": "@jupyter-widgets/base",
          "model_name": "LayoutModel",
          "model_module_version": "1.2.0",
          "state": {
            "_model_module": "@jupyter-widgets/base",
            "_model_module_version": "1.2.0",
            "_model_name": "LayoutModel",
            "_view_count": null,
            "_view_module": "@jupyter-widgets/base",
            "_view_module_version": "1.2.0",
            "_view_name": "LayoutView",
            "align_content": null,
            "align_items": null,
            "align_self": null,
            "border": null,
            "bottom": null,
            "display": null,
            "flex": null,
            "flex_flow": null,
            "grid_area": null,
            "grid_auto_columns": null,
            "grid_auto_flow": null,
            "grid_auto_rows": null,
            "grid_column": null,
            "grid_gap": null,
            "grid_row": null,
            "grid_template_areas": null,
            "grid_template_columns": null,
            "grid_template_rows": null,
            "height": null,
            "justify_content": null,
            "justify_items": null,
            "left": null,
            "margin": null,
            "max_height": null,
            "max_width": null,
            "min_height": null,
            "min_width": null,
            "object_fit": null,
            "object_position": null,
            "order": null,
            "overflow": null,
            "overflow_x": null,
            "overflow_y": null,
            "padding": null,
            "right": null,
            "top": null,
            "visibility": null,
            "width": null
          }
        },
        "02095e6a98b541b98ca5122207c22d4e": {
          "model_module": "@jupyter-widgets/controls",
          "model_name": "ProgressStyleModel",
          "model_module_version": "1.5.0",
          "state": {
            "_model_module": "@jupyter-widgets/controls",
            "_model_module_version": "1.5.0",
            "_model_name": "ProgressStyleModel",
            "_view_count": null,
            "_view_module": "@jupyter-widgets/base",
            "_view_module_version": "1.2.0",
            "_view_name": "StyleView",
            "bar_color": null,
            "description_width": ""
          }
        },
        "57ae677c9c4245aabe75a5c5177412c8": {
          "model_module": "@jupyter-widgets/base",
          "model_name": "LayoutModel",
          "model_module_version": "1.2.0",
          "state": {
            "_model_module": "@jupyter-widgets/base",
            "_model_module_version": "1.2.0",
            "_model_name": "LayoutModel",
            "_view_count": null,
            "_view_module": "@jupyter-widgets/base",
            "_view_module_version": "1.2.0",
            "_view_name": "LayoutView",
            "align_content": null,
            "align_items": null,
            "align_self": null,
            "border": null,
            "bottom": null,
            "display": null,
            "flex": null,
            "flex_flow": null,
            "grid_area": null,
            "grid_auto_columns": null,
            "grid_auto_flow": null,
            "grid_auto_rows": null,
            "grid_column": null,
            "grid_gap": null,
            "grid_row": null,
            "grid_template_areas": null,
            "grid_template_columns": null,
            "grid_template_rows": null,
            "height": null,
            "justify_content": null,
            "justify_items": null,
            "left": null,
            "margin": null,
            "max_height": null,
            "max_width": null,
            "min_height": null,
            "min_width": null,
            "object_fit": null,
            "object_position": null,
            "order": null,
            "overflow": null,
            "overflow_x": null,
            "overflow_y": null,
            "padding": null,
            "right": null,
            "top": null,
            "visibility": null,
            "width": null
          }
        },
        "9c0f5308583a4dd681396922fc1dc0d1": {
          "model_module": "@jupyter-widgets/controls",
          "model_name": "DescriptionStyleModel",
          "model_module_version": "1.5.0",
          "state": {
            "_model_module": "@jupyter-widgets/controls",
            "_model_module_version": "1.5.0",
            "_model_name": "DescriptionStyleModel",
            "_view_count": null,
            "_view_module": "@jupyter-widgets/base",
            "_view_module_version": "1.2.0",
            "_view_name": "StyleView",
            "description_width": ""
          }
        },
        "af60b796c56e42838768a36a4b388cf1": {
          "model_module": "@jupyter-widgets/controls",
          "model_name": "HBoxModel",
          "model_module_version": "1.5.0",
          "state": {
            "_dom_classes": [],
            "_model_module": "@jupyter-widgets/controls",
            "_model_module_version": "1.5.0",
            "_model_name": "HBoxModel",
            "_view_count": null,
            "_view_module": "@jupyter-widgets/controls",
            "_view_module_version": "1.5.0",
            "_view_name": "HBoxView",
            "box_style": "",
            "children": [
              "IPY_MODEL_4457d9bc5b21452eb1e2c955ffdfa712",
              "IPY_MODEL_55c5b987dc744f80afeda7a8f34e1d37",
              "IPY_MODEL_a1b1cd8528554645813b4558dcdf0ddf"
            ],
            "layout": "IPY_MODEL_ff125e69a0a140ef8610d936fca6ba7b"
          }
        },
        "4457d9bc5b21452eb1e2c955ffdfa712": {
          "model_module": "@jupyter-widgets/controls",
          "model_name": "HTMLModel",
          "model_module_version": "1.5.0",
          "state": {
            "_dom_classes": [],
            "_model_module": "@jupyter-widgets/controls",
            "_model_module_version": "1.5.0",
            "_model_name": "HTMLModel",
            "_view_count": null,
            "_view_module": "@jupyter-widgets/controls",
            "_view_module_version": "1.5.0",
            "_view_name": "HTMLView",
            "description": "",
            "description_tooltip": null,
            "layout": "IPY_MODEL_0feed89f36d34b98b572056623f13501",
            "placeholder": "​",
            "style": "IPY_MODEL_e56340f46cb046ea90f0e955452655c1",
            "value": "Generating train examples...: "
          }
        },
        "55c5b987dc744f80afeda7a8f34e1d37": {
          "model_module": "@jupyter-widgets/controls",
          "model_name": "FloatProgressModel",
          "model_module_version": "1.5.0",
          "state": {
            "_dom_classes": [],
            "_model_module": "@jupyter-widgets/controls",
            "_model_module_version": "1.5.0",
            "_model_name": "FloatProgressModel",
            "_view_count": null,
            "_view_module": "@jupyter-widgets/controls",
            "_view_module_version": "1.5.0",
            "_view_name": "ProgressView",
            "bar_style": "info",
            "description": "",
            "description_tooltip": null,
            "layout": "IPY_MODEL_f2223a3c455943bbb530f6e9dec95dc2",
            "max": 1,
            "min": 0,
            "orientation": "horizontal",
            "style": "IPY_MODEL_806660ddfd9e410bb64055bb5a4cf295",
            "value": 1
          }
        },
        "a1b1cd8528554645813b4558dcdf0ddf": {
          "model_module": "@jupyter-widgets/controls",
          "model_name": "HTMLModel",
          "model_module_version": "1.5.0",
          "state": {
            "_dom_classes": [],
            "_model_module": "@jupyter-widgets/controls",
            "_model_module_version": "1.5.0",
            "_model_name": "HTMLModel",
            "_view_count": null,
            "_view_module": "@jupyter-widgets/controls",
            "_view_module_version": "1.5.0",
            "_view_name": "HTMLView",
            "description": "",
            "description_tooltip": null,
            "layout": "IPY_MODEL_8efed19999c34bc7b61c631995c94b93",
            "placeholder": "​",
            "style": "IPY_MODEL_424e2b65f7b04943b548db3199a9bf72",
            "value": " 23101/? [00:13&lt;00:00, 1869.89 examples/s]"
          }
        },
        "ff125e69a0a140ef8610d936fca6ba7b": {
          "model_module": "@jupyter-widgets/base",
          "model_name": "LayoutModel",
          "model_module_version": "1.2.0",
          "state": {
            "_model_module": "@jupyter-widgets/base",
            "_model_module_version": "1.2.0",
            "_model_name": "LayoutModel",
            "_view_count": null,
            "_view_module": "@jupyter-widgets/base",
            "_view_module_version": "1.2.0",
            "_view_name": "LayoutView",
            "align_content": null,
            "align_items": null,
            "align_self": null,
            "border": null,
            "bottom": null,
            "display": null,
            "flex": null,
            "flex_flow": null,
            "grid_area": null,
            "grid_auto_columns": null,
            "grid_auto_flow": null,
            "grid_auto_rows": null,
            "grid_column": null,
            "grid_gap": null,
            "grid_row": null,
            "grid_template_areas": null,
            "grid_template_columns": null,
            "grid_template_rows": null,
            "height": null,
            "justify_content": null,
            "justify_items": null,
            "left": null,
            "margin": null,
            "max_height": null,
            "max_width": null,
            "min_height": null,
            "min_width": null,
            "object_fit": null,
            "object_position": null,
            "order": null,
            "overflow": null,
            "overflow_x": null,
            "overflow_y": null,
            "padding": null,
            "right": null,
            "top": null,
            "visibility": "hidden",
            "width": null
          }
        },
        "0feed89f36d34b98b572056623f13501": {
          "model_module": "@jupyter-widgets/base",
          "model_name": "LayoutModel",
          "model_module_version": "1.2.0",
          "state": {
            "_model_module": "@jupyter-widgets/base",
            "_model_module_version": "1.2.0",
            "_model_name": "LayoutModel",
            "_view_count": null,
            "_view_module": "@jupyter-widgets/base",
            "_view_module_version": "1.2.0",
            "_view_name": "LayoutView",
            "align_content": null,
            "align_items": null,
            "align_self": null,
            "border": null,
            "bottom": null,
            "display": null,
            "flex": null,
            "flex_flow": null,
            "grid_area": null,
            "grid_auto_columns": null,
            "grid_auto_flow": null,
            "grid_auto_rows": null,
            "grid_column": null,
            "grid_gap": null,
            "grid_row": null,
            "grid_template_areas": null,
            "grid_template_columns": null,
            "grid_template_rows": null,
            "height": null,
            "justify_content": null,
            "justify_items": null,
            "left": null,
            "margin": null,
            "max_height": null,
            "max_width": null,
            "min_height": null,
            "min_width": null,
            "object_fit": null,
            "object_position": null,
            "order": null,
            "overflow": null,
            "overflow_x": null,
            "overflow_y": null,
            "padding": null,
            "right": null,
            "top": null,
            "visibility": null,
            "width": null
          }
        },
        "e56340f46cb046ea90f0e955452655c1": {
          "model_module": "@jupyter-widgets/controls",
          "model_name": "DescriptionStyleModel",
          "model_module_version": "1.5.0",
          "state": {
            "_model_module": "@jupyter-widgets/controls",
            "_model_module_version": "1.5.0",
            "_model_name": "DescriptionStyleModel",
            "_view_count": null,
            "_view_module": "@jupyter-widgets/base",
            "_view_module_version": "1.2.0",
            "_view_name": "StyleView",
            "description_width": ""
          }
        },
        "f2223a3c455943bbb530f6e9dec95dc2": {
          "model_module": "@jupyter-widgets/base",
          "model_name": "LayoutModel",
          "model_module_version": "1.2.0",
          "state": {
            "_model_module": "@jupyter-widgets/base",
            "_model_module_version": "1.2.0",
            "_model_name": "LayoutModel",
            "_view_count": null,
            "_view_module": "@jupyter-widgets/base",
            "_view_module_version": "1.2.0",
            "_view_name": "LayoutView",
            "align_content": null,
            "align_items": null,
            "align_self": null,
            "border": null,
            "bottom": null,
            "display": null,
            "flex": null,
            "flex_flow": null,
            "grid_area": null,
            "grid_auto_columns": null,
            "grid_auto_flow": null,
            "grid_auto_rows": null,
            "grid_column": null,
            "grid_gap": null,
            "grid_row": null,
            "grid_template_areas": null,
            "grid_template_columns": null,
            "grid_template_rows": null,
            "height": null,
            "justify_content": null,
            "justify_items": null,
            "left": null,
            "margin": null,
            "max_height": null,
            "max_width": null,
            "min_height": null,
            "min_width": null,
            "object_fit": null,
            "object_position": null,
            "order": null,
            "overflow": null,
            "overflow_x": null,
            "overflow_y": null,
            "padding": null,
            "right": null,
            "top": null,
            "visibility": null,
            "width": "20px"
          }
        },
        "806660ddfd9e410bb64055bb5a4cf295": {
          "model_module": "@jupyter-widgets/controls",
          "model_name": "ProgressStyleModel",
          "model_module_version": "1.5.0",
          "state": {
            "_model_module": "@jupyter-widgets/controls",
            "_model_module_version": "1.5.0",
            "_model_name": "ProgressStyleModel",
            "_view_count": null,
            "_view_module": "@jupyter-widgets/base",
            "_view_module_version": "1.2.0",
            "_view_name": "StyleView",
            "bar_color": null,
            "description_width": ""
          }
        },
        "8efed19999c34bc7b61c631995c94b93": {
          "model_module": "@jupyter-widgets/base",
          "model_name": "LayoutModel",
          "model_module_version": "1.2.0",
          "state": {
            "_model_module": "@jupyter-widgets/base",
            "_model_module_version": "1.2.0",
            "_model_name": "LayoutModel",
            "_view_count": null,
            "_view_module": "@jupyter-widgets/base",
            "_view_module_version": "1.2.0",
            "_view_name": "LayoutView",
            "align_content": null,
            "align_items": null,
            "align_self": null,
            "border": null,
            "bottom": null,
            "display": null,
            "flex": null,
            "flex_flow": null,
            "grid_area": null,
            "grid_auto_columns": null,
            "grid_auto_flow": null,
            "grid_auto_rows": null,
            "grid_column": null,
            "grid_gap": null,
            "grid_row": null,
            "grid_template_areas": null,
            "grid_template_columns": null,
            "grid_template_rows": null,
            "height": null,
            "justify_content": null,
            "justify_items": null,
            "left": null,
            "margin": null,
            "max_height": null,
            "max_width": null,
            "min_height": null,
            "min_width": null,
            "object_fit": null,
            "object_position": null,
            "order": null,
            "overflow": null,
            "overflow_x": null,
            "overflow_y": null,
            "padding": null,
            "right": null,
            "top": null,
            "visibility": null,
            "width": null
          }
        },
        "424e2b65f7b04943b548db3199a9bf72": {
          "model_module": "@jupyter-widgets/controls",
          "model_name": "DescriptionStyleModel",
          "model_module_version": "1.5.0",
          "state": {
            "_model_module": "@jupyter-widgets/controls",
            "_model_module_version": "1.5.0",
            "_model_name": "DescriptionStyleModel",
            "_view_count": null,
            "_view_module": "@jupyter-widgets/base",
            "_view_module_version": "1.2.0",
            "_view_name": "StyleView",
            "description_width": ""
          }
        },
        "a656b374291945c4acafc00302f35c0b": {
          "model_module": "@jupyter-widgets/controls",
          "model_name": "HBoxModel",
          "model_module_version": "1.5.0",
          "state": {
            "_dom_classes": [],
            "_model_module": "@jupyter-widgets/controls",
            "_model_module_version": "1.5.0",
            "_model_name": "HBoxModel",
            "_view_count": null,
            "_view_module": "@jupyter-widgets/controls",
            "_view_module_version": "1.5.0",
            "_view_name": "HBoxView",
            "box_style": "",
            "children": [
              "IPY_MODEL_0cab6d923043477781da514bb6c3bee5",
              "IPY_MODEL_244759a66c404f2f85e40a04e2c0ed9f",
              "IPY_MODEL_3385f9c550da4225ab503efb3f97b83a"
            ],
            "layout": "IPY_MODEL_57b794de45f941b1b015b0256cb767fa"
          }
        },
        "0cab6d923043477781da514bb6c3bee5": {
          "model_module": "@jupyter-widgets/controls",
          "model_name": "HTMLModel",
          "model_module_version": "1.5.0",
          "state": {
            "_dom_classes": [],
            "_model_module": "@jupyter-widgets/controls",
            "_model_module_version": "1.5.0",
            "_model_name": "HTMLModel",
            "_view_count": null,
            "_view_module": "@jupyter-widgets/controls",
            "_view_module_version": "1.5.0",
            "_view_name": "HTMLView",
            "description": "",
            "description_tooltip": null,
            "layout": "IPY_MODEL_40b102aa3ca34e0b99bb690c416ca77a",
            "placeholder": "​",
            "style": "IPY_MODEL_b873d85278be43c4ac2468a6ddd2c048",
            "value": "Shuffling /root/tensorflow_datasets/cats_vs_dogs/4.0.0.incompleteUX23G7/cats_vs_dogs-train.tfrecord*...:  99%"
          }
        },
        "244759a66c404f2f85e40a04e2c0ed9f": {
          "model_module": "@jupyter-widgets/controls",
          "model_name": "FloatProgressModel",
          "model_module_version": "1.5.0",
          "state": {
            "_dom_classes": [],
            "_model_module": "@jupyter-widgets/controls",
            "_model_module_version": "1.5.0",
            "_model_name": "FloatProgressModel",
            "_view_count": null,
            "_view_module": "@jupyter-widgets/controls",
            "_view_module_version": "1.5.0",
            "_view_name": "ProgressView",
            "bar_style": "",
            "description": "",
            "description_tooltip": null,
            "layout": "IPY_MODEL_424ec8502daf4c45915fc8b230ac764a",
            "max": 23262,
            "min": 0,
            "orientation": "horizontal",
            "style": "IPY_MODEL_6c8552bc8b864cc4a767dd39f3cc6278",
            "value": 23262
          }
        },
        "3385f9c550da4225ab503efb3f97b83a": {
          "model_module": "@jupyter-widgets/controls",
          "model_name": "HTMLModel",
          "model_module_version": "1.5.0",
          "state": {
            "_dom_classes": [],
            "_model_module": "@jupyter-widgets/controls",
            "_model_module_version": "1.5.0",
            "_model_name": "HTMLModel",
            "_view_count": null,
            "_view_module": "@jupyter-widgets/controls",
            "_view_module_version": "1.5.0",
            "_view_name": "HTMLView",
            "description": "",
            "description_tooltip": null,
            "layout": "IPY_MODEL_3514dd8e929e46f48a2c68b8ece857bc",
            "placeholder": "​",
            "style": "IPY_MODEL_b3cfb759969f4d9e9c1d95979bdf3214",
            "value": " 22943/23262 [00:02&lt;00:00, 8070.91 examples/s]"
          }
        },
        "57b794de45f941b1b015b0256cb767fa": {
          "model_module": "@jupyter-widgets/base",
          "model_name": "LayoutModel",
          "model_module_version": "1.2.0",
          "state": {
            "_model_module": "@jupyter-widgets/base",
            "_model_module_version": "1.2.0",
            "_model_name": "LayoutModel",
            "_view_count": null,
            "_view_module": "@jupyter-widgets/base",
            "_view_module_version": "1.2.0",
            "_view_name": "LayoutView",
            "align_content": null,
            "align_items": null,
            "align_self": null,
            "border": null,
            "bottom": null,
            "display": null,
            "flex": null,
            "flex_flow": null,
            "grid_area": null,
            "grid_auto_columns": null,
            "grid_auto_flow": null,
            "grid_auto_rows": null,
            "grid_column": null,
            "grid_gap": null,
            "grid_row": null,
            "grid_template_areas": null,
            "grid_template_columns": null,
            "grid_template_rows": null,
            "height": null,
            "justify_content": null,
            "justify_items": null,
            "left": null,
            "margin": null,
            "max_height": null,
            "max_width": null,
            "min_height": null,
            "min_width": null,
            "object_fit": null,
            "object_position": null,
            "order": null,
            "overflow": null,
            "overflow_x": null,
            "overflow_y": null,
            "padding": null,
            "right": null,
            "top": null,
            "visibility": "hidden",
            "width": null
          }
        },
        "40b102aa3ca34e0b99bb690c416ca77a": {
          "model_module": "@jupyter-widgets/base",
          "model_name": "LayoutModel",
          "model_module_version": "1.2.0",
          "state": {
            "_model_module": "@jupyter-widgets/base",
            "_model_module_version": "1.2.0",
            "_model_name": "LayoutModel",
            "_view_count": null,
            "_view_module": "@jupyter-widgets/base",
            "_view_module_version": "1.2.0",
            "_view_name": "LayoutView",
            "align_content": null,
            "align_items": null,
            "align_self": null,
            "border": null,
            "bottom": null,
            "display": null,
            "flex": null,
            "flex_flow": null,
            "grid_area": null,
            "grid_auto_columns": null,
            "grid_auto_flow": null,
            "grid_auto_rows": null,
            "grid_column": null,
            "grid_gap": null,
            "grid_row": null,
            "grid_template_areas": null,
            "grid_template_columns": null,
            "grid_template_rows": null,
            "height": null,
            "justify_content": null,
            "justify_items": null,
            "left": null,
            "margin": null,
            "max_height": null,
            "max_width": null,
            "min_height": null,
            "min_width": null,
            "object_fit": null,
            "object_position": null,
            "order": null,
            "overflow": null,
            "overflow_x": null,
            "overflow_y": null,
            "padding": null,
            "right": null,
            "top": null,
            "visibility": null,
            "width": null
          }
        },
        "b873d85278be43c4ac2468a6ddd2c048": {
          "model_module": "@jupyter-widgets/controls",
          "model_name": "DescriptionStyleModel",
          "model_module_version": "1.5.0",
          "state": {
            "_model_module": "@jupyter-widgets/controls",
            "_model_module_version": "1.5.0",
            "_model_name": "DescriptionStyleModel",
            "_view_count": null,
            "_view_module": "@jupyter-widgets/base",
            "_view_module_version": "1.2.0",
            "_view_name": "StyleView",
            "description_width": ""
          }
        },
        "424ec8502daf4c45915fc8b230ac764a": {
          "model_module": "@jupyter-widgets/base",
          "model_name": "LayoutModel",
          "model_module_version": "1.2.0",
          "state": {
            "_model_module": "@jupyter-widgets/base",
            "_model_module_version": "1.2.0",
            "_model_name": "LayoutModel",
            "_view_count": null,
            "_view_module": "@jupyter-widgets/base",
            "_view_module_version": "1.2.0",
            "_view_name": "LayoutView",
            "align_content": null,
            "align_items": null,
            "align_self": null,
            "border": null,
            "bottom": null,
            "display": null,
            "flex": null,
            "flex_flow": null,
            "grid_area": null,
            "grid_auto_columns": null,
            "grid_auto_flow": null,
            "grid_auto_rows": null,
            "grid_column": null,
            "grid_gap": null,
            "grid_row": null,
            "grid_template_areas": null,
            "grid_template_columns": null,
            "grid_template_rows": null,
            "height": null,
            "justify_content": null,
            "justify_items": null,
            "left": null,
            "margin": null,
            "max_height": null,
            "max_width": null,
            "min_height": null,
            "min_width": null,
            "object_fit": null,
            "object_position": null,
            "order": null,
            "overflow": null,
            "overflow_x": null,
            "overflow_y": null,
            "padding": null,
            "right": null,
            "top": null,
            "visibility": null,
            "width": null
          }
        },
        "6c8552bc8b864cc4a767dd39f3cc6278": {
          "model_module": "@jupyter-widgets/controls",
          "model_name": "ProgressStyleModel",
          "model_module_version": "1.5.0",
          "state": {
            "_model_module": "@jupyter-widgets/controls",
            "_model_module_version": "1.5.0",
            "_model_name": "ProgressStyleModel",
            "_view_count": null,
            "_view_module": "@jupyter-widgets/base",
            "_view_module_version": "1.2.0",
            "_view_name": "StyleView",
            "bar_color": null,
            "description_width": ""
          }
        },
        "3514dd8e929e46f48a2c68b8ece857bc": {
          "model_module": "@jupyter-widgets/base",
          "model_name": "LayoutModel",
          "model_module_version": "1.2.0",
          "state": {
            "_model_module": "@jupyter-widgets/base",
            "_model_module_version": "1.2.0",
            "_model_name": "LayoutModel",
            "_view_count": null,
            "_view_module": "@jupyter-widgets/base",
            "_view_module_version": "1.2.0",
            "_view_name": "LayoutView",
            "align_content": null,
            "align_items": null,
            "align_self": null,
            "border": null,
            "bottom": null,
            "display": null,
            "flex": null,
            "flex_flow": null,
            "grid_area": null,
            "grid_auto_columns": null,
            "grid_auto_flow": null,
            "grid_auto_rows": null,
            "grid_column": null,
            "grid_gap": null,
            "grid_row": null,
            "grid_template_areas": null,
            "grid_template_columns": null,
            "grid_template_rows": null,
            "height": null,
            "justify_content": null,
            "justify_items": null,
            "left": null,
            "margin": null,
            "max_height": null,
            "max_width": null,
            "min_height": null,
            "min_width": null,
            "object_fit": null,
            "object_position": null,
            "order": null,
            "overflow": null,
            "overflow_x": null,
            "overflow_y": null,
            "padding": null,
            "right": null,
            "top": null,
            "visibility": null,
            "width": null
          }
        },
        "b3cfb759969f4d9e9c1d95979bdf3214": {
          "model_module": "@jupyter-widgets/controls",
          "model_name": "DescriptionStyleModel",
          "model_module_version": "1.5.0",
          "state": {
            "_model_module": "@jupyter-widgets/controls",
            "_model_module_version": "1.5.0",
            "_model_name": "DescriptionStyleModel",
            "_view_count": null,
            "_view_module": "@jupyter-widgets/base",
            "_view_module_version": "1.2.0",
            "_view_name": "StyleView",
            "description_width": ""
          }
        }
      }
    }
  },
  "cells": [
    {
      "cell_type": "markdown",
      "metadata": {
        "id": "view-in-github",
        "colab_type": "text"
      },
      "source": [
        "<a href=\"https://colab.research.google.com/github/saipragna25/deep-learning-pipeline-custom-components/blob/main/DL_pipeline_custom_components.ipynb\" target=\"_parent\"><img src=\"https://colab.research.google.com/assets/colab-badge.svg\" alt=\"Open In Colab\"/></a>"
      ]
    },
    {
      "cell_type": "code",
      "execution_count": 4,
      "metadata": {
        "id": "XKN7m7m9GTRC"
      },
      "outputs": [],
      "source": [
        "import tensorflow as tf\n",
        "from tensorflow.keras import layers, models\n",
        "import numpy as np\n",
        "import matplotlib.pyplot as plt\n",
        "import tensorflow_datasets as tfds\n",
        "from sklearn.model_selection import train_test_split\n"
      ]
    },
    {
      "cell_type": "markdown",
      "source": [
        "Saving and loading model with custom object"
      ],
      "metadata": {
        "id": "2uNadllxSeAk"
      }
    },
    {
      "cell_type": "code",
      "source": [
        "# Ingesting data\n",
        "\n",
        "dataset, info = tfds.load('cats_vs_dogs', with_info=True)\n",
        "dataset = dataset['train'].take(500)"
      ],
      "metadata": {
        "colab": {
          "base_uri": "https://localhost:8080/",
          "height": 153,
          "referenced_widgets": [
            "617bf7e2ca5e4a778dcb883733732281",
            "2e0e349a464d49c8a4688b2706d7621a",
            "61d9cb0bee3444ffb299dcdd52f20f50",
            "a01f681457c84032ade172bf648f4c3d",
            "476ccde98e09483f86c7e4745077e756",
            "155927b7e08741998a5b6ff3f41238a3",
            "085a4a23af9441cda25e486d15a08409",
            "0d2e28c519cd472295231967009d2930",
            "34500a0066444cd7b524f10682396351",
            "32e845a85605416d9d2228ca3e2b3fcf",
            "36fa7f3857a4459098fd93ba95f97644",
            "14070a0729b042118282d0940e0cf441",
            "6eb0b1db74fe463c856975065364efe2",
            "f970b1b5ecf64c2abc25c49693958747",
            "d145c060086f47fc9e7c8ffe06b301d3",
            "0cc89b0f24a241f795b5143bb7ae6e88",
            "2c4594cc675d4577b1ac63dd4824dc1e",
            "05992e5d51d24c0ca588db7c43fc09e6",
            "0048643c9cae43a4b83bc72965527a9d",
            "f3b701dd368d4ea1bec978fc3b2c994d",
            "bd4f74fc1a8c4294a11a22fecfc5b629",
            "53bc065e60a84e898c8c2fd926347fcc",
            "3c90dc7eef9243d79d060224a1e0071f",
            "b8f8115fbcd94bc2b8eaac6a9d128df9",
            "666c0314ecd044b49c49970dd8342f22",
            "79644a6d96ae4035b61ce8827c5d72a6",
            "04a2256151214fc5af46eabfa8c17864",
            "24218a8881004b55a49b81fa72abce2f",
            "593abcef7c354cc6976e54906e92d3ef",
            "05f93d77082a4d178b3bd36be63abb7b",
            "02095e6a98b541b98ca5122207c22d4e",
            "57ae677c9c4245aabe75a5c5177412c8",
            "9c0f5308583a4dd681396922fc1dc0d1",
            "af60b796c56e42838768a36a4b388cf1",
            "4457d9bc5b21452eb1e2c955ffdfa712",
            "55c5b987dc744f80afeda7a8f34e1d37",
            "a1b1cd8528554645813b4558dcdf0ddf",
            "ff125e69a0a140ef8610d936fca6ba7b",
            "0feed89f36d34b98b572056623f13501",
            "e56340f46cb046ea90f0e955452655c1",
            "f2223a3c455943bbb530f6e9dec95dc2",
            "806660ddfd9e410bb64055bb5a4cf295",
            "8efed19999c34bc7b61c631995c94b93",
            "424e2b65f7b04943b548db3199a9bf72",
            "a656b374291945c4acafc00302f35c0b",
            "0cab6d923043477781da514bb6c3bee5",
            "244759a66c404f2f85e40a04e2c0ed9f",
            "3385f9c550da4225ab503efb3f97b83a",
            "57b794de45f941b1b015b0256cb767fa",
            "40b102aa3ca34e0b99bb690c416ca77a",
            "b873d85278be43c4ac2468a6ddd2c048",
            "424ec8502daf4c45915fc8b230ac764a",
            "6c8552bc8b864cc4a767dd39f3cc6278",
            "3514dd8e929e46f48a2c68b8ece857bc",
            "b3cfb759969f4d9e9c1d95979bdf3214"
          ]
        },
        "id": "up-ALUwfS3jC",
        "outputId": "4320ed18-2345-4701-9919-424b5a9e2c79"
      },
      "execution_count": 5,
      "outputs": [
        {
          "output_type": "stream",
          "name": "stdout",
          "text": [
            "Downloading and preparing dataset Unknown size (download: Unknown size, generated: Unknown size, total: Unknown size) to /root/tensorflow_datasets/cats_vs_dogs/4.0.0...\n"
          ]
        },
        {
          "output_type": "display_data",
          "data": {
            "text/plain": [
              "Dl Completed...: 0 url [00:00, ? url/s]"
            ],
            "application/vnd.jupyter.widget-view+json": {
              "version_major": 2,
              "version_minor": 0,
              "model_id": "617bf7e2ca5e4a778dcb883733732281"
            }
          },
          "metadata": {}
        },
        {
          "output_type": "display_data",
          "data": {
            "text/plain": [
              "Dl Size...: 0 MiB [00:00, ? MiB/s]"
            ],
            "application/vnd.jupyter.widget-view+json": {
              "version_major": 2,
              "version_minor": 0,
              "model_id": "14070a0729b042118282d0940e0cf441"
            }
          },
          "metadata": {}
        },
        {
          "output_type": "display_data",
          "data": {
            "text/plain": [
              "Generating splits...:   0%|          | 0/1 [00:00<?, ? splits/s]"
            ],
            "application/vnd.jupyter.widget-view+json": {
              "version_major": 2,
              "version_minor": 0,
              "model_id": "3c90dc7eef9243d79d060224a1e0071f"
            }
          },
          "metadata": {}
        },
        {
          "output_type": "display_data",
          "data": {
            "text/plain": [
              "Generating train examples...: 0 examples [00:00, ? examples/s]"
            ],
            "application/vnd.jupyter.widget-view+json": {
              "version_major": 2,
              "version_minor": 0,
              "model_id": "af60b796c56e42838768a36a4b388cf1"
            }
          },
          "metadata": {}
        },
        {
          "output_type": "stream",
          "name": "stderr",
          "text": [
            "WARNING:absl:1738 images were corrupted and were skipped\n"
          ]
        },
        {
          "output_type": "display_data",
          "data": {
            "text/plain": [
              "Shuffling /root/tensorflow_datasets/cats_vs_dogs/4.0.0.incompleteUX23G7/cats_vs_dogs-train.tfrecord*...:   0%|…"
            ],
            "application/vnd.jupyter.widget-view+json": {
              "version_major": 2,
              "version_minor": 0,
              "model_id": "a656b374291945c4acafc00302f35c0b"
            }
          },
          "metadata": {}
        },
        {
          "output_type": "stream",
          "name": "stdout",
          "text": [
            "Dataset cats_vs_dogs downloaded and prepared to /root/tensorflow_datasets/cats_vs_dogs/4.0.0. Subsequent calls will reuse this data.\n"
          ]
        }
      ]
    },
    {
      "cell_type": "code",
      "source": [
        "# Preprocess images\n",
        "\n",
        "def preprocess_image(sample):\n",
        "    image = sample['image']\n",
        "    image = tf.cast(image, tf.float32) / 255.0\n",
        "    image = tf.image.resize(image, (150, 150))\n",
        "    image = tf.reshape(image, (1, 150, 150, 3))\n",
        "    label = sample['label']\n",
        "    return {'image': image, 'label': label}\n",
        "\n",
        "dataset = dataset.map(preprocess_image)"
      ],
      "metadata": {
        "id": "VMgv5KNoTMKm"
      },
      "execution_count": 6,
      "outputs": []
    },
    {
      "cell_type": "code",
      "source": [
        "# Split the dataset into training and testing sets\n",
        "\n",
        "train_dataset_ = dataset.take(400)\n",
        "test_dataset_ = dataset.skip(400)\n",
        "\n",
        "train_dataset = train_dataset_.map(lambda x: (x['image'], tf.expand_dims(x['label'], axis=-1)))\n",
        "test_dataset = train_dataset_.map(lambda x: (x['image'], tf.expand_dims(x['label'], axis=-1)))"
      ],
      "metadata": {
        "id": "g0SuQLUETSIq"
      },
      "execution_count": 7,
      "outputs": []
    },
    {
      "cell_type": "code",
      "source": [
        "def huber_loss(y_true, y_pred):\n",
        "  y_true = tf.cast(y_true, tf.float32)\n",
        "  error = y_true - y_pred\n",
        "  is_small_error = tf.abs(error) < 1\n",
        "  squared_loss = tf.square(error) / 2\n",
        "  linear_loss  = tf.abs(error) - 0.5\n",
        "  return tf.where(is_small_error, squared_loss, linear_loss)"
      ],
      "metadata": {
        "id": "jWWYoxsVThxs"
      },
      "execution_count": 9,
      "outputs": []
    },
    {
      "cell_type": "code",
      "source": [
        "def glorot_initializer(shape, dtype=tf.float32):\n",
        "  stddev = tf.sqrt(2. / (shape[0] + shape[1]))\n",
        "  return tf.random.normal(shape, stddev=stddev, dtype=dtype)"
      ],
      "metadata": {
        "id": "zd5iUibsTiwS"
      },
      "execution_count": 10,
      "outputs": []
    },
    {
      "cell_type": "code",
      "source": [
        "model = tf.keras.Sequential([\n",
        "    tf.keras.layers.Conv2D(32, 3, activation='relu', input_shape=(150,150,3)),\n",
        "    tf.keras.layers.MaxPooling2D(),\n",
        "    tf.keras.layers.Conv2D(32, 3, activation='relu'),\n",
        "    tf.keras.layers.MaxPooling2D(),\n",
        "    tf.keras.layers.Flatten(),\n",
        "    tf.keras.layers.Dense(128, activation='relu'),\n",
        "    tf.keras.layers.Dense(1, activation='sigmoid', kernel_initializer=glorot_initializer)\n",
        "])\n",
        "\n",
        "model.compile(optimizer='adam', loss=huber_loss, metrics=['accuracy'])\n",
        "\n",
        "model.fit(train_dataset, epochs=5, batch_size=16, validation_data=test_dataset)"
      ],
      "metadata": {
        "colab": {
          "base_uri": "https://localhost:8080/"
        },
        "id": "FN1OMZxHSe1e",
        "outputId": "75fc28af-9c46-422a-a290-b3b7c156513e"
      },
      "execution_count": 12,
      "outputs": [
        {
          "output_type": "stream",
          "name": "stdout",
          "text": [
            "Epoch 1/5\n",
            "400/400 [==============================] - 51s 121ms/step - loss: 0.2653 - accuracy: 0.4700 - val_loss: 0.2650 - val_accuracy: 0.4700\n",
            "Epoch 2/5\n",
            "400/400 [==============================] - 52s 130ms/step - loss: 0.2650 - accuracy: 0.4700 - val_loss: 0.2650 - val_accuracy: 0.4700\n",
            "Epoch 3/5\n",
            "400/400 [==============================] - 52s 130ms/step - loss: 0.2650 - accuracy: 0.4700 - val_loss: 0.2650 - val_accuracy: 0.4700\n",
            "Epoch 4/5\n",
            "400/400 [==============================] - 43s 108ms/step - loss: 0.2650 - accuracy: 0.4700 - val_loss: 0.2650 - val_accuracy: 0.4700\n",
            "Epoch 5/5\n",
            "400/400 [==============================] - 46s 115ms/step - loss: 0.2650 - accuracy: 0.4700 - val_loss: 0.2650 - val_accuracy: 0.4700\n"
          ]
        },
        {
          "output_type": "execute_result",
          "data": {
            "text/plain": [
              "<keras.callbacks.History at 0x7fc941c25390>"
            ]
          },
          "metadata": {},
          "execution_count": 12
        }
      ]
    },
    {
      "cell_type": "code",
      "source": [
        "# Saving models with custom objects\n",
        "\n",
        "model.save('model_with_custom_loss_initializer')"
      ],
      "metadata": {
        "colab": {
          "base_uri": "https://localhost:8080/"
        },
        "id": "pntIdz_wSf6R",
        "outputId": "7ed7bcf3-51b6-46d2-d074-15320b5df50b"
      },
      "execution_count": 13,
      "outputs": [
        {
          "output_type": "stream",
          "name": "stderr",
          "text": [
            "WARNING:absl:Found untraced functions such as _jit_compiled_convolution_op, _jit_compiled_convolution_op, _update_step_xla while saving (showing 3 of 3). These functions will not be directly callable after loading.\n"
          ]
        }
      ]
    },
    {
      "cell_type": "code",
      "source": [
        "# Load saved model and run again\n",
        "\n",
        "model = tf.keras.models.load_model('model_with_custom_loss_initializer', custom_objects={'huber_loss':huber_loss, 'glorot_initializer':glorot_initializer})\n",
        "model.fit(train_dataset, epochs=5, batch_size=16)"
      ],
      "metadata": {
        "colab": {
          "base_uri": "https://localhost:8080/"
        },
        "id": "KJmAeUgCSfuJ",
        "outputId": "67945ecf-a3a2-4d74-a2e5-a799a77dc886"
      },
      "execution_count": 15,
      "outputs": [
        {
          "output_type": "stream",
          "name": "stdout",
          "text": [
            "Epoch 1/5\n",
            "400/400 [==============================] - 39s 92ms/step - loss: 0.2650 - accuracy: 0.4700\n",
            "Epoch 2/5\n",
            "400/400 [==============================] - 35s 86ms/step - loss: 0.2650 - accuracy: 0.4700\n",
            "Epoch 3/5\n",
            "400/400 [==============================] - 38s 95ms/step - loss: 0.2650 - accuracy: 0.4700\n",
            "Epoch 4/5\n",
            "400/400 [==============================] - 33s 83ms/step - loss: 0.2650 - accuracy: 0.4700\n",
            "Epoch 5/5\n",
            "400/400 [==============================] - 36s 90ms/step - loss: 0.2650 - accuracy: 0.4700\n"
          ]
        },
        {
          "output_type": "execute_result",
          "data": {
            "text/plain": [
              "<keras.callbacks.History at 0x7fc941919750>"
            ]
          },
          "metadata": {},
          "execution_count": 15
        }
      ]
    },
    {
      "cell_type": "markdown",
      "source": [
        "custom loss function"
      ],
      "metadata": {
        "id": "KYJwGpZRTDdW"
      }
    },
    {
      "cell_type": "code",
      "source": [
        "\n",
        "# Load the dataset\n",
        "mnist = tf.keras.datasets.mnist\n",
        "(x_train, y_train), (x_test, y_test) = mnist.load_data()\n",
        "\n",
        "# Preprocess the data\n",
        "x_train = x_train / 255.0\n",
        "x_test = x_test / 255.0\n",
        "x_train = np.expand_dims(x_train, -1)\n",
        "x_test = np.expand_dims(x_test, -1)\n",
        "y_train = tf.keras.utils.to_categorical(y_train, num_classes=10)\n",
        "y_test = tf.keras.utils.to_categorical(y_test, num_classes=10)\n",
        "\n",
        "\n",
        "# Custom categorical crossentropy loss function\n",
        "def custom_categorical_crossentropy(y_true, y_pred):\n",
        "    epsilon = tf.keras.backend.epsilon()\n",
        "    y_pred = tf.clip_by_value(y_pred, epsilon, 1.0 - epsilon)\n",
        "    y_pred = tf.math.log(y_pred)\n",
        "    loss = -tf.math.reduce_sum(y_true * y_pred, axis=-1)\n",
        "    return tf.math.reduce_mean(loss)\n",
        "\n",
        "# Create the model\n",
        "model = models.Sequential([\n",
        "    layers.Conv2D(32, kernel_size=(3, 3), activation='relu', input_shape=(28, 28, 1)),\n",
        "    layers.MaxPooling2D(pool_size=(2, 2)),\n",
        "    layers.Conv2D(64, kernel_size=(3, 3), activation='relu'),\n",
        "    layers.MaxPooling2D(pool_size=(2, 2)),\n",
        "    layers.Flatten(),\n",
        "    layers.Dense(128, activation='relu'),\n",
        "    layers.Dropout(0.2),\n",
        "    layers.Dense(10, activation='softmax')\n",
        "])\n",
        "\n",
        "# Compile the model with the custom loss function\n",
        "model.compile(optimizer='adam',\n",
        "              loss=custom_categorical_crossentropy,\n",
        "              metrics=['accuracy'])\n",
        "\n",
        "# Train the model\n",
        "model.fit(x_train, y_train, epochs=5, validation_split=0.1)\n"
      ],
      "metadata": {
        "colab": {
          "base_uri": "https://localhost:8080/"
        },
        "id": "Kcx8jGe6SqAw",
        "outputId": "33cb1636-a9e4-4df1-f29c-ddc3699cb422"
      },
      "execution_count": 3,
      "outputs": [
        {
          "output_type": "stream",
          "name": "stdout",
          "text": [
            "Epoch 1/5\n",
            "1688/1688 [==============================] - 70s 39ms/step - loss: 0.1531 - accuracy: 0.9536 - val_loss: 0.0426 - val_accuracy: 0.9878\n",
            "Epoch 2/5\n",
            "1688/1688 [==============================] - 68s 40ms/step - loss: 0.0515 - accuracy: 0.9843 - val_loss: 0.0369 - val_accuracy: 0.9897\n",
            "Epoch 3/5\n",
            "1688/1688 [==============================] - 65s 38ms/step - loss: 0.0363 - accuracy: 0.9883 - val_loss: 0.0328 - val_accuracy: 0.9900\n",
            "Epoch 4/5\n",
            "1688/1688 [==============================] - 65s 38ms/step - loss: 0.0277 - accuracy: 0.9904 - val_loss: 0.0306 - val_accuracy: 0.9902\n",
            "Epoch 5/5\n",
            "1688/1688 [==============================] - 67s 39ms/step - loss: 0.0217 - accuracy: 0.9928 - val_loss: 0.0288 - val_accuracy: 0.9915\n"
          ]
        },
        {
          "output_type": "execute_result",
          "data": {
            "text/plain": [
              "<keras.callbacks.History at 0x7f9d823871c0>"
            ]
          },
          "metadata": {},
          "execution_count": 3
        }
      ]
    },
    {
      "cell_type": "markdown",
      "source": [
        "Custom Regularizer"
      ],
      "metadata": {
        "id": "W2AJAvnNXfnr"
      }
    },
    {
      "cell_type": "code",
      "source": [
        "(train_images, train_labels),(test_images, test_labels) = keras.datasets.fashion_mnist.load_data()\n",
        "train_images = train_images / 255.0\n",
        "test_images = test_images / 255.0\n",
        "validation_images = train_images[:5000]\n",
        "validation_labels = train_labels[:5000]\n",
        "class_names = [\"T-shirt/top\", \"Trouser\", \"Pullover\", \"Dress\", \"Coat\", \"Sandal\", \"Shirt\", \"Sneaker\", \"Bag\", \"Ankle boot\"]"
      ],
      "metadata": {
        "colab": {
          "base_uri": "https://localhost:8080/"
        },
        "id": "6Oc00EFAtMdh",
        "outputId": "9617e6c6-8598-42c9-db04-84e77a0c0006"
      },
      "execution_count": 19,
      "outputs": [
        {
          "output_type": "stream",
          "name": "stdout",
          "text": [
            "Downloading data from https://storage.googleapis.com/tensorflow/tf-keras-datasets/train-labels-idx1-ubyte.gz\n",
            "29515/29515 [==============================] - 0s 1us/step\n",
            "Downloading data from https://storage.googleapis.com/tensorflow/tf-keras-datasets/train-images-idx3-ubyte.gz\n",
            "26421880/26421880 [==============================] - 2s 0us/step\n",
            "Downloading data from https://storage.googleapis.com/tensorflow/tf-keras-datasets/t10k-labels-idx1-ubyte.gz\n",
            "5148/5148 [==============================] - 0s 0us/step\n",
            "Downloading data from https://storage.googleapis.com/tensorflow/tf-keras-datasets/t10k-images-idx3-ubyte.gz\n",
            "4422102/4422102 [==============================] - 1s 0us/step\n"
          ]
        }
      ]
    },
    {
      "cell_type": "code",
      "source": [
        "def custom_l2_regularizer(weights):\n",
        "    return tf.reduce_sum(0.02 * tf.square(weights))"
      ],
      "metadata": {
        "id": "G0P_aR-OtSbZ"
      },
      "execution_count": 20,
      "outputs": []
    },
    {
      "cell_type": "code",
      "source": [
        "model = keras.models.Sequential([\n",
        "    keras.layers.Flatten(input_shape=[28,28]),\n",
        "    keras.layers.Dense(200, activation='relu', kernel_regularizer=custom_l2_regularizer),\n",
        "    keras.layers.Dense(100, activation='relu', kernel_regularizer=custom_l2_regularizer),\n",
        "    keras.layers.Dense(50, activation='relu', kernel_regularizer=custom_l2_regularizer),\n",
        "    keras.layers.Dense(10, activation='softmax')\n",
        "])"
      ],
      "metadata": {
        "id": "2ai7zNJ0tZ8f"
      },
      "execution_count": 22,
      "outputs": []
    },
    {
      "cell_type": "code",
      "source": [
        "sgd = keras.optimizers.SGD(lr=0.01)\n",
        "model.compile(loss=\"sparse_categorical_crossentropy\", optimizer=sgd, metrics=[\"accuracy\"])\n",
        "model.fit(train_images, train_labels, epochs=5, validation_data=(validation_images, validation_labels))"
      ],
      "metadata": {
        "colab": {
          "base_uri": "https://localhost:8080/"
        },
        "id": "4KXFMVMZti8t",
        "outputId": "7dacf089-addf-461a-d566-cc225b11b6c0"
      },
      "execution_count": 24,
      "outputs": [
        {
          "output_type": "stream",
          "name": "stderr",
          "text": [
            "WARNING:absl:`lr` is deprecated in Keras optimizer, please use `learning_rate` or use the legacy optimizer, e.g.,tf.keras.optimizers.legacy.SGD.\n"
          ]
        },
        {
          "output_type": "stream",
          "name": "stdout",
          "text": [
            "Epoch 1/5\n",
            "1875/1875 [==============================] - 11s 5ms/step - loss: 2.1609 - accuracy: 0.7977 - val_loss: 1.4801 - val_accuracy: 0.7842\n",
            "Epoch 2/5\n",
            "1875/1875 [==============================] - 9s 5ms/step - loss: 1.2089 - accuracy: 0.8034 - val_loss: 1.0258 - val_accuracy: 0.8118\n",
            "Epoch 3/5\n",
            "1875/1875 [==============================] - 10s 5ms/step - loss: 0.9705 - accuracy: 0.8065 - val_loss: 0.9090 - val_accuracy: 0.8106\n",
            "Epoch 4/5\n",
            "1875/1875 [==============================] - 12s 6ms/step - loss: 0.8954 - accuracy: 0.8087 - val_loss: 0.8504 - val_accuracy: 0.8202\n",
            "Epoch 5/5\n",
            "1875/1875 [==============================] - 11s 6ms/step - loss: 0.8625 - accuracy: 0.8105 - val_loss: 0.8377 - val_accuracy: 0.8128\n"
          ]
        },
        {
          "output_type": "execute_result",
          "data": {
            "text/plain": [
              "<keras.callbacks.History at 0x7f732e6cfdc0>"
            ]
          },
          "metadata": {},
          "execution_count": 24
        }
      ]
    },
    {
      "cell_type": "code",
      "source": [
        "model.evaluate(test_images, test_labels)"
      ],
      "metadata": {
        "colab": {
          "base_uri": "https://localhost:8080/"
        },
        "id": "hTVPFaSCt4f0",
        "outputId": "2836a936-f26d-4e4a-8021-71024869e6f5"
      },
      "execution_count": 25,
      "outputs": [
        {
          "output_type": "stream",
          "name": "stdout",
          "text": [
            "313/313 [==============================] - 1s 4ms/step - loss: 0.8745 - accuracy: 0.7936\n"
          ]
        },
        {
          "output_type": "execute_result",
          "data": {
            "text/plain": [
              "[0.8744895458221436, 0.7936000227928162]"
            ]
          },
          "metadata": {},
          "execution_count": 25
        }
      ]
    },
    {
      "cell_type": "code",
      "source": [
        "practical_test_images =  test_images[:10]\n",
        "predictions = np.argmax(model.predict(practical_test_images), axis=-1)\n",
        "print(predictions)\n",
        "print(np.array(class_names)[predictions])\n"
      ],
      "metadata": {
        "colab": {
          "base_uri": "https://localhost:8080/"
        },
        "id": "DzqK3tLzt87b",
        "outputId": "1355bb97-adf1-4641-a009-d1fb90d0dee2"
      },
      "execution_count": 28,
      "outputs": [
        {
          "output_type": "stream",
          "name": "stdout",
          "text": [
            "1/1 [==============================] - 0s 24ms/step\n",
            "[9 2 1 1 6 1 4 6 5 7]\n",
            "['Ankle boot' 'Pullover' 'Trouser' 'Trouser' 'Shirt' 'Trouser' 'Coat'\n",
            " 'Shirt' 'Sandal' 'Sneaker']\n"
          ]
        }
      ]
    },
    {
      "cell_type": "markdown",
      "source": [
        "Custom activation function"
      ],
      "metadata": {
        "id": "1i46MlX3Xs_Y"
      }
    },
    {
      "cell_type": "code",
      "source": [
        "# Custom activation function\n",
        "@tf.function\n",
        "def custom_activation(x):\n",
        "    return tf.maximum(0.0, x) * tf.sin(x)\n",
        "\n",
        "# Model with custom activation function\n",
        "model = models.Sequential([\n",
        "    layers.Conv2D(32, kernel_size=(3, 3), input_shape=(28, 28, 1)),\n",
        "    layers.Activation(custom_activation),\n",
        "    layers.MaxPooling2D(pool_size=(2, 2)),\n",
        "    layers.Conv2D(64, kernel_size=(3, 3)),\n",
        "    layers.Activation(custom_activation),\n",
        "    layers.MaxPooling2D(pool_size=(2, 2)),\n",
        "    layers.Flatten(),\n",
        "    layers.Dense(128),\n",
        "    layers.Activation(custom_activation),\n",
        "    layers.Dropout(0.2),\n",
        "    layers.Dense(10, activation='softmax')\n",
        "])\n",
        "\n",
        "model.compile(optimizer='adam',\n",
        "              loss=tf.keras.losses.SparseCategoricalCrossentropy(),\n",
        "              metrics=['accuracy'])\n",
        "\n",
        "model.fit(x_train, y_train, epochs=5, validation_split=0.1)\n"
      ],
      "metadata": {
        "colab": {
          "base_uri": "https://localhost:8080/"
        },
        "id": "yNl-Y_P4Xl8O",
        "outputId": "199e9277-0c87-462a-d29a-a1e7a280b7a3"
      },
      "execution_count": 32,
      "outputs": [
        {
          "output_type": "stream",
          "name": "stdout",
          "text": [
            "Epoch 1/5\n",
            "1688/1688 [==============================] - 209s 69ms/step - loss: 0.1830 - accuracy: 0.9465 - val_loss: 0.0461 - val_accuracy: 0.9872\n",
            "Epoch 2/5\n",
            "1688/1688 [==============================] - 113s 67ms/step - loss: 0.0487 - accuracy: 0.9857 - val_loss: 0.0379 - val_accuracy: 0.9905\n",
            "Epoch 3/5\n",
            "1688/1688 [==============================] - 112s 66ms/step - loss: 0.0326 - accuracy: 0.9898 - val_loss: 0.0278 - val_accuracy: 0.9933\n",
            "Epoch 4/5\n",
            "1688/1688 [==============================] - 122s 72ms/step - loss: 0.0238 - accuracy: 0.9927 - val_loss: 0.0324 - val_accuracy: 0.9912\n",
            "Epoch 5/5\n",
            "1688/1688 [==============================] - 147s 87ms/step - loss: 0.0182 - accuracy: 0.9943 - val_loss: 0.0306 - val_accuracy: 0.9913\n"
          ]
        },
        {
          "output_type": "execute_result",
          "data": {
            "text/plain": [
              "<keras.callbacks.History at 0x7f731fc47970>"
            ]
          },
          "metadata": {},
          "execution_count": 32
        }
      ]
    },
    {
      "cell_type": "markdown",
      "source": [
        "  Custom Initializer"
      ],
      "metadata": {
        "id": "qbB2SqCYegBe"
      }
    },
    {
      "cell_type": "code",
      "source": [
        "class CustomInitializer(tf.keras.initializers.Initializer):\n",
        "    def __call__(self, shape, dtype=None):\n",
        "        return tf.random.normal(shape, mean=0., stddev=0.05)\n",
        "\n",
        "# Model with custom initializer\n",
        "model = models.Sequential([\n",
        "    layers.Conv2D(32, kernel_size=(3, 3), activation='relu', input_shape=(28, 28, 1), kernel_initializer=CustomInitializer()),\n",
        "    layers.MaxPooling2D(pool_size=(2, 2)),\n",
        "    layers.Conv2D(64, kernel_size=(3, 3), activation='relu', kernel_initializer=CustomInitializer()),\n",
        "    layers.MaxPooling2D(pool_size=(2, 2)),\n",
        "    layers.Flatten(),\n",
        "    layers.Dense(128, activation='relu', kernel_initializer=CustomInitializer()),\n",
        "    layers.Dropout(0.2),\n",
        "    layers.Dense(10, activation='softmax')\n",
        "])\n",
        "\n",
        "model.compile(optimizer='adam',\n",
        "              loss=tf.keras.losses.SparseCategoricalCrossentropy(),\n",
        "              metrics=['accuracy'])\n",
        "\n",
        "model.fit(x_train, y_train, epochs=5, validation_split=0.1)\n"
      ],
      "metadata": {
        "colab": {
          "base_uri": "https://localhost:8080/"
        },
        "id": "Wa2ilzG2emra",
        "outputId": "b62f1163-4f15-44a8-a24e-bd3d41662277"
      },
      "execution_count": 43,
      "outputs": [
        {
          "output_type": "stream",
          "name": "stdout",
          "text": [
            "Epoch 1/5\n",
            "1688/1688 [==============================] - 82s 48ms/step - loss: 0.5578 - accuracy: 0.8143 - val_loss: 0.3872 - val_accuracy: 0.8637\n",
            "Epoch 2/5\n",
            "1688/1688 [==============================] - 81s 48ms/step - loss: 0.3596 - accuracy: 0.8689 - val_loss: 0.3261 - val_accuracy: 0.8820\n",
            "Epoch 3/5\n",
            "1688/1688 [==============================] - 77s 46ms/step - loss: 0.3176 - accuracy: 0.8846 - val_loss: 0.3038 - val_accuracy: 0.8832\n",
            "Epoch 4/5\n",
            "1688/1688 [==============================] - 80s 47ms/step - loss: 0.2931 - accuracy: 0.8916 - val_loss: 0.3059 - val_accuracy: 0.8868\n",
            "Epoch 5/5\n",
            "1688/1688 [==============================] - 81s 48ms/step - loss: 0.2700 - accuracy: 0.9001 - val_loss: 0.2854 - val_accuracy: 0.8972\n"
          ]
        },
        {
          "output_type": "execute_result",
          "data": {
            "text/plain": [
              "<keras.callbacks.History at 0x7f731f939ff0>"
            ]
          },
          "metadata": {},
          "execution_count": 43
        }
      ]
    },
    {
      "cell_type": "markdown",
      "source": [
        "Custom kernel constraint"
      ],
      "metadata": {
        "id": "9UooxNqEex40"
      }
    },
    {
      "cell_type": "code",
      "source": [
        "class CustomConstraint(tf.keras.constraints.Constraint):\n",
        "    def __call__(self, w):\n",
        "        return tf.clip_by_value(w, -1.0, 1.0)\n",
        "\n",
        "# Model with custom kernel constraint\n",
        "model = models.Sequential([\n",
        "    layers.Conv2D(32, kernel_size=(3, 3), activation='relu', input_shape=(28, 28, 1), kernel_constraint=CustomConstraint()),\n",
        "    layers.MaxPooling2D(pool_size=(2, 2)),\n",
        "    layers.Conv2D(64, kernel_size=(3, 3), activation='relu', kernel_constraint=CustomConstraint()),\n",
        "    layers.MaxPooling2D(pool_size=(2, 2)),\n",
        "    layers.Flatten(),\n",
        "    layers.Dense(128, activation='relu', kernel_constraint=CustomConstraint()),\n",
        "    layers.Dropout(0.2),\n",
        "    layers.Dense(10, activation='softmax')\n",
        "])\n",
        "\n",
        "model.compile(optimizer='adam',\n",
        "              loss=tf.keras.losses.SparseCategoricalCrossentropy(),\n",
        "              metrics=['accuracy'])\n",
        "\n",
        "model.fit(x_train, y_train, epochs=5, validation_split=0.1)\n"
      ],
      "metadata": {
        "colab": {
          "base_uri": "https://localhost:8080/"
        },
        "id": "X_lDWiHdeyR3",
        "outputId": "0a7a2abe-8622-4909-c58d-9fcaac1013b3"
      },
      "execution_count": null,
      "outputs": [
        {
          "output_type": "stream",
          "name": "stdout",
          "text": [
            "Epoch 1/5\n",
            "1688/1688 [==============================] - 57s 33ms/step - loss: 0.1579 - accuracy: 0.9508 - val_loss: 0.0536 - val_accuracy: 0.9848\n",
            "Epoch 2/5\n",
            "1688/1688 [==============================] - 56s 33ms/step - loss: 0.0541 - accuracy: 0.9835 - val_loss: 0.0435 - val_accuracy: 0.9878\n",
            "Epoch 3/5\n",
            "1688/1688 [==============================] - 57s 34ms/step - loss: 0.0380 - accuracy: 0.9881 - val_loss: 0.0368 - val_accuracy: 0.9902\n",
            "Epoch 4/5\n",
            "1688/1688 [==============================] - 58s 34ms/step - loss: 0.0283 - accuracy: 0.9907 - val_loss: 0.0488 - val_accuracy: 0.9865\n",
            "Epoch 5/5\n",
            "1688/1688 [==============================] - 62s 37ms/step - loss: 0.0235 - accuracy: 0.9924 - val_loss: 0.0333 - val_accuracy: 0.9913\n"
          ]
        },
        {
          "output_type": "execute_result",
          "data": {
            "text/plain": [
              "<keras.callbacks.History at 0x7fda7c982800>"
            ]
          },
          "metadata": {},
          "execution_count": 15
        }
      ]
    },
    {
      "cell_type": "markdown",
      "source": [
        "Custom Metrics"
      ],
      "metadata": {
        "id": "6NY8JaTue7K2"
      }
    },
    {
      "cell_type": "code",
      "source": [
        "class CustomAccuracy(tf.keras.metrics.Metric):\n",
        "    def __init__(self, name=\"custom_accuracy\", **kwargs):\n",
        "        super(CustomAccuracy, self).__init__(name=name, **kwargs)\n",
        "        self.correct = self.add_weight(name=\"correct\", initializer=\"zeros\")\n",
        "        self.total = self.add_weight(name=\"total\", initializer=\"zeros\")\n",
        "\n",
        "    def update_state(self, y_true, y_pred, sample_weight=None):\n",
        "        y_true = tf.argmax(y_true, axis=-1)\n",
        "        y_pred = tf.argmax(y_pred, axis=-1)\n",
        "        self.correct.assign_add(tf.reduce_sum(tf.cast(y_true == y_pred, tf.float32)))\n",
        "        self.total.assign_add(tf.cast(tf.size(y_true), tf.float32))\n",
        "\n",
        "    def result(self):\n",
        "        return self.correct / self.total\n",
        "\n",
        "# Model with custom metrics\n",
        "model = models.Sequential([\n",
        "    layers.Conv2D(32, kernel_size=(3, 3), activation='relu', input_shape=(28, 28, 1)),\n",
        "    layers.MaxPooling2D(pool_size=(2, 2)),\n",
        "    layers.Conv2D(64, kernel_size=(3, 3), activation='relu'),\n",
        "    layers.MaxPooling2D(pool_size=(2, 2)),\n",
        "    layers.Flatten(),\n",
        "    layers.Dense(128, activation='relu'),\n",
        "    layers.Dropout(0.2),\n",
        "    layers.Dense(10, activation='softmax')\n",
        "])\n",
        "\n",
        "model.compile(optimizer='adam',\n",
        "              loss=tf.keras.losses.SparseCategoricalCrossentropy(),\n",
        "              metrics=[CustomAccuracy()])\n",
        "\n",
        "model.fit(x_train, y_train, epochs=5, validation_split=0.1)\n"
      ],
      "metadata": {
        "colab": {
          "base_uri": "https://localhost:8080/"
        },
        "id": "0No3oXYQe7on",
        "outputId": "c5b27a82-412e-4c4d-f6cc-164b8afc99eb"
      },
      "execution_count": 42,
      "outputs": [
        {
          "output_type": "stream",
          "name": "stdout",
          "text": [
            "Epoch 1/5\n",
            "1688/1688 [==============================] - 82s 48ms/step - loss: 0.6053 - custom_accuracy: 0.1059 - val_loss: 0.3951 - val_custom_accuracy: 0.1430\n",
            "Epoch 2/5\n",
            "1688/1688 [==============================] - 83s 49ms/step - loss: 0.3657 - custom_accuracy: 0.1041 - val_loss: 0.3227 - val_custom_accuracy: 0.1065\n",
            "Epoch 3/5\n",
            "1688/1688 [==============================] - 81s 48ms/step - loss: 0.3248 - custom_accuracy: 0.1029 - val_loss: 0.3098 - val_custom_accuracy: 0.1195\n",
            "Epoch 4/5\n",
            "1688/1688 [==============================] - 81s 48ms/step - loss: 0.2979 - custom_accuracy: 0.1024 - val_loss: 0.2973 - val_custom_accuracy: 0.1023\n",
            "Epoch 5/5\n",
            "1688/1688 [==============================] - 78s 46ms/step - loss: 0.2776 - custom_accuracy: 0.1012 - val_loss: 0.3041 - val_custom_accuracy: 0.1042\n"
          ]
        },
        {
          "output_type": "execute_result",
          "data": {
            "text/plain": [
              "<keras.callbacks.History at 0x7f732f38da50>"
            ]
          },
          "metadata": {},
          "execution_count": 42
        }
      ]
    },
    {
      "cell_type": "markdown",
      "source": [
        "Custom Seed"
      ],
      "metadata": {
        "id": "kXLKVAkbfSRv"
      }
    },
    {
      "cell_type": "code",
      "source": [
        "import numpy as np\n",
        "import tensorflow as tf\n",
        "from tensorflow.keras import layers, models\n",
        "\n",
        "# Set the custom seed\n",
        "custom_seed = 42\n",
        "np.random.seed(custom_seed)\n",
        "tf.random.set_seed(custom_seed)\n",
        "\n",
        "# Model\n",
        "model = models.Sequential([\n",
        "    layers.Conv2D(32, kernel_size=(3, 3), activation='relu', input_shape=(28, 28, 1)),\n",
        "    layers.MaxPooling2D(pool_size=(2, 2)),\n",
        "    layers.Conv2D(64, kernel_size=(3, 3), activation='relu'),\n",
        "    layers.MaxPooling2D(pool_size=(2, 2)),\n",
        "    layers.Flatten(),\n",
        "    layers.Dense(128, activation='relu'),\n",
        "    layers.Dropout(0.2),\n",
        "    layers.Dense(10, activation='softmax')\n",
        "])\n",
        "\n",
        "model.compile(optimizer='adam',\n",
        "              loss=tf.keras.losses.SparseCategoricalCrossentropy(),\n",
        "              metrics=['accuracy'])\n",
        "\n",
        "model.fit(x_train, y_train, epochs=5, validation_split=0.1)\n"
      ],
      "metadata": {
        "colab": {
          "base_uri": "https://localhost:8080/"
        },
        "id": "hY7DzedffT28",
        "outputId": "6bf40056-1a97-4372-fddd-7b49405472ca"
      },
      "execution_count": null,
      "outputs": [
        {
          "output_type": "stream",
          "name": "stdout",
          "text": [
            "Epoch 1/5\n",
            "1688/1688 [==============================] - 58s 34ms/step - loss: 0.1523 - accuracy: 0.9524 - val_loss: 0.0511 - val_accuracy: 0.9857\n",
            "Epoch 2/5\n",
            "1688/1688 [==============================] - 57s 34ms/step - loss: 0.0539 - accuracy: 0.9834 - val_loss: 0.0428 - val_accuracy: 0.9870\n",
            "Epoch 3/5\n",
            "1688/1688 [==============================] - 55s 33ms/step - loss: 0.0375 - accuracy: 0.9882 - val_loss: 0.0294 - val_accuracy: 0.9915\n",
            "Epoch 4/5\n",
            "1688/1688 [==============================] - 56s 33ms/step - loss: 0.0276 - accuracy: 0.9912 - val_loss: 0.0339 - val_accuracy: 0.9907\n",
            "Epoch 5/5\n",
            "1688/1688 [==============================] - 57s 34ms/step - loss: 0.0222 - accuracy: 0.9926 - val_loss: 0.0320 - val_accuracy: 0.9907\n"
          ]
        },
        {
          "output_type": "execute_result",
          "data": {
            "text/plain": [
              "<keras.callbacks.History at 0x7fda7c7c6530>"
            ]
          },
          "metadata": {},
          "execution_count": 17
        }
      ]
    },
    {
      "cell_type": "markdown",
      "source": [
        "Custom Call Back"
      ],
      "metadata": {
        "id": "lBwJW7ZSfahS"
      }
    },
    {
      "cell_type": "code",
      "source": [
        "class CustomCallback(tf.keras.callbacks.Callback):\n",
        "    def on_epoch_end(self, epoch, logs=None):\n",
        "        if logs.get('accuracy') > 0.95:\n",
        "            print(\"\\nReached 95% accuracy, stopping training.\")\n",
        "            self.model.stop_training = True\n",
        "\n",
        "# Model with custom callback\n",
        "model = models.Sequential([\n",
        "    layers.Conv2D(32, kernel_size=(3, 3), activation='relu', input_shape=(28, 28, 1)),\n",
        "    layers.MaxPooling2D(pool_size=(2, 2)),\n",
        "    layers.Conv2D(64, kernel_size=(3, 3), activation='relu'),\n",
        "    layers.MaxPooling2D(pool_size=(2, 2)),\n",
        "    layers.Flatten(),\n",
        "    layers.Dense(128, activation='relu'),\n",
        "    layers.Dropout(0.2),\n",
        "    layers.Dense(10, activation='softmax')\n",
        "])\n",
        "\n",
        "model.compile(optimizer='adam',\n",
        "              loss=tf.keras.losses.SparseCategoricalCrossentropy(),\n",
        "              metrics=['accuracy'])\n",
        "\n",
        "model.fit(x_train, y_train, epochs=5, validation_split=0.1, callbacks=[CustomCallback()])\n"
      ],
      "metadata": {
        "id": "u2aceSG2fbGl"
      },
      "execution_count": null,
      "outputs": []
    },
    {
      "cell_type": "markdown",
      "source": [
        "Custom Layer"
      ],
      "metadata": {
        "id": "4NlgIf-Qhpad"
      }
    },
    {
      "cell_type": "code",
      "source": [
        "class CustomLayer(layers.Layer):\n",
        "    def __init__(self, units=32, **kwargs):\n",
        "        super(CustomLayer, self).__init__(**kwargs)\n",
        "        self.units = units\n",
        "\n",
        "    def build(self, input_shape):\n",
        "        self.w = self.add_weight(shape=(input_shape[-1], self.units),\n",
        "                                 initializer='random_normal',\n",
        "                                 trainable=True)\n",
        "        self.b = self.add_weight(shape=(self.units,),\n",
        "                                 initializer='zeros',\n",
        "                                 trainable=True)\n",
        "\n",
        "    def call(self, inputs):\n",
        "        return tf.matmul(inputs, self.w) + self.b\n",
        "\n",
        "# Model with custom layer\n",
        "model = models.Sequential([\n",
        "    layers.Conv2D(32, kernel_size=(3, 3), activation='relu', input_shape=(28, 28, 1)),\n",
        "    layers.MaxPooling2D(pool_size=(2, 2)),\n",
        "    layers.Conv2D(64, kernel_size=(3, 3), activation='relu'),\n",
        "    layers.MaxPooling2D(pool_size=(2, 2)),\n",
        "    layers.Flatten(),\n",
        "    CustomLayer(128),\n",
        "    layers.Activation('relu'),\n",
        "    layers.Dropout(0.2),\n",
        "    layers.Dense(10, activation='softmax')\n",
        "])\n",
        "\n",
        "model.compile(optimizer='adam',\n",
        "              loss=tf.keras.losses.SparseCategoricalCrossentropy(),\n",
        "              metrics=['accuracy'])\n",
        "\n",
        "model.fit(x_train, y_train, epochs=5, validation_split=0.1)\n"
      ],
      "metadata": {
        "id": "J9U1OuFRhp-G"
      },
      "execution_count": null,
      "outputs": []
    },
    {
      "cell_type": "markdown",
      "source": [
        "Custom Model"
      ],
      "metadata": {
        "id": "M-HQSJP-h6Iu"
      }
    },
    {
      "cell_type": "code",
      "source": [
        "class CustomModel(models.Model):\n",
        "    def __init__(self):\n",
        "        super(CustomModel, self).__init__()\n",
        "        self.conv1 = layers.Conv2D(32, kernel_size=(3, 3), activation='relu')\n",
        "        self.max_pool1 = layers.MaxPooling2D(pool_size=(2, 2))\n",
        "        self.conv2 = layers.Conv2D(64, kernel_size=(3, 3), activation='relu')\n",
        "        self.max_pool2 = layers.MaxPooling2D(pool_size=(2, 2))\n",
        "        self.flatten = layers.Flatten()\n",
        "        self.dense1 = layers.Dense(128, activation='relu')\n",
        "        self.dropout = layers.Dropout(0.2)\n",
        "        self.dense2 = layers.Dense(10, activation='softmax')\n",
        "\n",
        "    def call(self, inputs):\n",
        "        x = self.conv1(inputs)\n",
        "        x = self.max_pool1(x)\n",
        "        x = self.conv2(x)\n",
        "        x = self.max_pool2(x)\n",
        "        x = self.flatten(x)\n",
        "        x = self.dense1(x)\n",
        "        x = self.dropout(x)\n",
        "        return self.dense2(x)\n",
        "\n",
        "# Model with custom model\n",
        "model = CustomModel()\n",
        "\n",
        "model.compile(optimizer='adam',\n",
        "              loss=tf.keras.losses.SparseCategoricalCrossentropy(),\n",
        "              metrics=['accuracy'])\n",
        "\n",
        "model.fit(x_train, y_train, epochs=5, validation_split=0.1)\n"
      ],
      "metadata": {
        "id": "NZjUpwfyh4Cc"
      },
      "execution_count": null,
      "outputs": []
    },
    {
      "cell_type": "markdown",
      "source": [
        "Custom Training Loop"
      ],
      "metadata": {
        "id": "A2uA1pM7iK95"
      }
    },
    {
      "cell_type": "code",
      "source": [
        "# Model\n",
        "model = models.Sequential([\n",
        "    layers.Conv2D(32, kernel_size=(3, 3), activation='relu', input_shape=(28, 28, 1)),\n",
        "    layers.MaxPooling2D(pool_size=(2, 2)),\n",
        "    layers.Conv2D(64, kernel_size=(3, 3), activation='relu'),\n",
        "    layers.MaxPooling2D(pool_size=(2, 2)),\n",
        "    layers.Flatten(),\n",
        "    layers.Dense(128, activation='relu'),\n",
        "    layers.Dropout(0.2),\n",
        "    layers.Dense(10, activation='softmax')\n",
        "])\n",
        "\n",
        "loss_fn = tf.keras.losses.SparseCategoricalCrossentropy()\n",
        "optimizer = tf.keras.optimizers.Adam()\n",
        "\n",
        "# Custom training loop\n",
        "@tf.function\n",
        "def train_step(images, labels):\n",
        "    with tf.GradientTape() as tape:\n",
        "        predictions = model(images)\n",
        "        loss = loss_fn(labels, predictions)\n",
        "    gradients = tape.gradient(loss, model.trainable_variables)\n",
        "    optimizer.apply_gradients(zip(gradients, model.trainable_variables))\n",
        "    return loss\n",
        "\n",
        "train_dataset = tf.data.Dataset.from_tensor_slices((x_train, y_train)).shuffle(10000).batch(32)\n",
        "\n",
        "for epoch in range(5):\n",
        "    for step, (images, labels) in enumerate(train_dataset):\n",
        "        loss = train_step(images, labels)\n",
        "        if step % 100 == 0:\n",
        "            print(f\"Epoch {epoch + 1}, Step {step}, Loss {loss.numpy()}\")\n"
      ],
      "metadata": {
        "id": "WqZrzlcpiJvy"
      },
      "execution_count": null,
      "outputs": []
    },
    {
      "cell_type": "markdown",
      "source": [
        "Custom tf functions"
      ],
      "metadata": {
        "id": "VDuk6kzua3Qt"
      }
    },
    {
      "cell_type": "code",
      "source": [
        "import tensorflow as tf\n",
        "from tensorflow.keras.layers import Dense, Flatten, Lambda, Conv2D, MaxPooling2D, Dropout\n",
        "from tensorflow.keras.models import Sequential\n",
        "from tensorflow.keras import backend as K"
      ],
      "metadata": {
        "id": "pEWbe9dla7Sv"
      },
      "execution_count": 23,
      "outputs": []
    },
    {
      "cell_type": "code",
      "source": [
        "# Custom activation functions\n",
        "def my_relu(x):\n",
        "    return K.maximum(-0.1, x)\n",
        "# Custom ELU activation function\n",
        "@tf.function\n",
        "def custom_elu(x, alpha=1.0):\n",
        "    return tf.where(x > 0, x, alpha * (tf.exp(x) - 1))\n",
        "\n",
        "# Custom SELU activation function\n",
        "@tf.function\n",
        "def custom_selu(x, alpha=1.67326, scale=1.0507):\n",
        "    return scale * tf.where(x > 0, x, alpha * (tf.exp(x) - 1))\n",
        "\n",
        "# Custom Leaky ReLU activation function\n",
        "@tf.function\n",
        "def custom_leaky_relu(x, alpha=0.3):\n",
        "    return tf.where(x > 0, x, alpha * x)\n",
        "\n",
        "# Custom Parametric ReLU activation function\n",
        "@tf.function\n",
        "def custom_prelu(x, alpha):\n",
        "    return tf.where(x > 0, x, alpha * x)\n",
        "\n",
        "# Custom function to compute the mean of a tensor\n",
        "@tf.function\n",
        "def custom_mean(x):\n",
        "    return tf.reduce_mean(x, axis=[1, 2], keepdims=True)\n",
        "\n",
        "# Custom function to compute the standard deviation of a tensor\n",
        "@tf.function\n",
        "def custom_std(x):\n",
        "    return tf.math.sqrt(tf.reduce_mean(tf.square(x - tf.reduce_mean(x, axis=[1, 2], keepdims=True)), axis=[1, 2], keepdims=True))\n",
        "\n"
      ],
      "metadata": {
        "id": "AA1QB6Kaa7uF"
      },
      "execution_count": 24,
      "outputs": []
    },
    {
      "cell_type": "code",
      "source": [
        "# Load the MNIST dataset and normalize the data\n",
        "mnist = tf.keras.datasets.mnist\n",
        "(x_train, y_train), (x_test, y_test) = mnist.load_data()\n",
        "x_train, x_test = x_train / 255.0, x_test / 255.0\n",
        "x_train = x_train[..., tf.newaxis]\n",
        "x_test = x_test[..., tf.newaxis]\n"
      ],
      "metadata": {
        "id": "pEohA5E6a7e8"
      },
      "execution_count": 25,
      "outputs": []
    },
    {
      "cell_type": "code",
      "source": [
        "# Create a complex deep neural network model using custom functions\n",
        "model = Sequential([\n",
        "    Conv2D(32, kernel_size=(3, 3), activation='relu', input_shape=(28, 28, 1)),\n",
        "    MaxPooling2D(pool_size=(2, 2)),\n",
        "    Conv2D(64, kernel_size=(3, 3), activation='relu'),\n",
        "    MaxPooling2D(pool_size=(2, 2)),\n",
        "    Dropout(0.25),\n",
        "    Flatten(),\n",
        "    Dense(128),\n",
        "    Lambda(my_relu),\n",
        "    Dropout(0.5),\n",
        "    Dense(10, activation='softmax')\n",
        "])"
      ],
      "metadata": {
        "id": "ojw4C8NEbG_2"
      },
      "execution_count": 31,
      "outputs": []
    },
    {
      "cell_type": "code",
      "source": [
        "# Compile and train the model\n",
        "model.compile(optimizer='adam',\n",
        "              loss='sparse_categorical_crossentropy',\n",
        "              metrics=['accuracy'])\n",
        "model.fit(x_train, y_train, epochs=5, batch_size=128)\n",
        "\n",
        "# Evaluate the model on the test set\n",
        "model.evaluate(x_test, y_test)\n"
      ],
      "metadata": {
        "colab": {
          "base_uri": "https://localhost:8080/"
        },
        "id": "ugULQi-vbHKP",
        "outputId": "889b100e-9db2-4bf4-e47d-b759124cb9af"
      },
      "execution_count": 22,
      "outputs": [
        {
          "output_type": "stream",
          "name": "stdout",
          "text": [
            "Epoch 1/5\n",
            "469/469 [==============================] - 104s 218ms/step - loss: 0.4798 - accuracy: 0.8484\n",
            "Epoch 2/5\n",
            "469/469 [==============================] - 100s 214ms/step - loss: 0.1663 - accuracy: 0.9502\n",
            "Epoch 3/5\n",
            "469/469 [==============================] - 98s 209ms/step - loss: 0.1230 - accuracy: 0.9627\n",
            "Epoch 4/5\n",
            "469/469 [==============================] - 100s 214ms/step - loss: 0.1110 - accuracy: 0.9667\n",
            "Epoch 5/5\n",
            "469/469 [==============================] - 99s 211ms/step - loss: 0.0990 - accuracy: 0.9703\n",
            "313/313 [==============================] - 8s 25ms/step - loss: 0.0484 - accuracy: 0.9851\n"
          ]
        },
        {
          "output_type": "execute_result",
          "data": {
            "text/plain": [
              "[0.04838937520980835, 0.9850999712944031]"
            ]
          },
          "metadata": {},
          "execution_count": 22
        }
      ]
    },
    {
      "cell_type": "markdown",
      "source": [
        "Custom Dropout"
      ],
      "metadata": {
        "id": "jQwqjyFPihVD"
      }
    },
    {
      "cell_type": "code",
      "source": [
        "class CustomDropout(layers.Layer):\n",
        "    def __init__(self, rate=0.2, **kwargs):\n",
        "        super(CustomDropout, self).__init__(**kwargs)\n",
        "        self.rate = rate\n",
        "\n",
        "    def call(self, inputs, training=None):\n",
        "        if training:\n",
        "            return tf.nn.dropout(inputs, rate=self.rate)\n",
        "        return inputs\n",
        "\n",
        "# Model with custom dropout\n",
        "model = models.Sequential([\n",
        "    layers.Conv2D(32, kernel_size=(3, 3), activation='relu', input_shape=(28, 28, 1)),\n",
        "    layers.MaxPooling2D(pool_size=(2, 2)),\n",
        "    layers.Conv2D(64, kernel_size=(3, 3), activation='relu'),\n",
        "    layers.MaxPooling2D(pool_size=(2, 2)),\n",
        "    layers.Flatten(),\n",
        "    layers.Dense(128, activation='relu'),\n",
        "    CustomDropout(0.2),\n",
        "    layers.Dense(10, activation='softmax')\n",
        "])\n",
        "\n",
        "model.compile(optimizer='adam',\n",
        "              loss=tf.keras.losses.SparseCategoricalCrossentropy(),\n",
        "              metrics=['accuracy'])\n",
        "\n",
        "model.fit(x_train, y_train, epochs=5, validation_split=0.1)\n"
      ],
      "metadata": {
        "id": "GztAeCsMikA8"
      },
      "execution_count": null,
      "outputs": []
    },
    {
      "cell_type": "markdown",
      "source": [
        "Custom Gradient"
      ],
      "metadata": {
        "id": "1No__y_Vf_4t"
      }
    },
    {
      "cell_type": "code",
      "source": [
        "import tensorflow as tf\n",
        "import tensorflow_datasets as tfds\n",
        "\n",
        "from typing import Optional\n",
        "\n",
        "\n",
        "@tf.function\n",
        "def sigmoid(x: tf.Tensor) -> tf.Tensor:\n",
        "    return 1 / (1 + tf.exp(-x))\n",
        "\n",
        "\n",
        "\n",
        "ds = tfds.load(\"german_credit_numeric\", split=\"train\", as_supervised=True)\n",
        "ds = ds.shuffle(1000).batch(100).prefetch(tf.data.AUTOTUNE)"
      ],
      "metadata": {
        "id": "N5a_Fc9DgDTF"
      },
      "execution_count": 6,
      "outputs": []
    },
    {
      "cell_type": "code",
      "source": [
        "class Logistic(tf.keras.layers.Layer):\n",
        "\n",
        "    def __init__(self, units, **kwargs):\n",
        "        kwargs.setdefault(\"name\", \"logistic\")\n",
        "        super().__init__(**kwargs)\n",
        "        self.units = units\n",
        "        \n",
        "    def get_config(self):\n",
        "        config = super().get_config()\n",
        "        config = config.update({\"units\": self.units})\n",
        "        \n",
        "        return config\n",
        "        \n",
        "    def build(self, input_shape):\n",
        "        self.w = self.add_weight(shape=(input_shape[-1], self.units), initializer=\"random_normal\", trainable=True)\n",
        "        self.b = self.add_weight(shape=(self.units, ), initializer=\"random_normal\", trainable=True)\n",
        "    \n",
        "    def call(self, inputs):\n",
        "        return sigmoid(tf.linalg.matmul(inputs, self.w) + self.b)"
      ],
      "metadata": {
        "id": "QSg94DkQgEbz"
      },
      "execution_count": 7,
      "outputs": []
    },
    {
      "cell_type": "code",
      "source": [
        "features_spec, labels_spec = ds.element_spec\n",
        "del labels_spec  # Not used\n",
        "\n",
        "feature_inputs = tf.keras.Input(type_spec=features_spec, name=\"feature_inputs\")\n",
        "dense = tf.keras.layers.Dense(units=4, name=\"dense_layer\")"
      ],
      "metadata": {
        "id": "toFPEnclgEPp"
      },
      "execution_count": 8,
      "outputs": []
    },
    {
      "cell_type": "code",
      "source": [
        "class CustomModel(tf.keras.Model):\n",
        "    def __init__(self, nn_block: Optional[tf.keras.layers.Layer] = None, **kwargs):\n",
        "        kwargs.setdefault(\"name\", \"custom_model\")\n",
        "        super().__init__(**kwargs)\n",
        "        self.nn_block = nn_block\n",
        "        self.logistic = Logistic(units=1, name=\"logistic_layer\")\n",
        "        self.loss_tracker = tf.keras.metrics.Mean(name=\"loss\")\n",
        "\n",
        "    @property\n",
        "    def metrics(self):\n",
        "        # Automatically resets the metric states at the start of each epoch or at the start of evaluate()\n",
        "        return [self.loss_tracker]\n",
        "\n",
        "    def loss_fn(self, features, label):\n",
        "        \"\"\"Custom gradient is calculated for the output layer; autodiff used for earlier layer(s)\"\"\"\n",
        "        logistic_features = self.nn_block(features) if self.nn_block else features\n",
        "\n",
        "        @tf.custom_gradient\n",
        "        def logistic_loss(x, y):\n",
        "            \"\"\"x is the features to the logistic regression, y is the target labels\"\"\"\n",
        "            predicted = sigmoid(tf.linalg.matmul(x, self.logistic.w) + self.logistic.b)\n",
        "            loss_result = tf.reduce_mean(-1 * tf.math.log(predicted), axis=0)  # Average loss per sample\n",
        "            loss_result = tf.ensure_shape(loss_result, shape=(self.logistic.units, ))  # Assert that loss is unitary\n",
        "\n",
        "            def gradient(upstream_grad, variables):\n",
        "                # Gradient formulae derived with pen and paper using calculus\n",
        "                # They are averaged over the training batch\n",
        "\n",
        "                # List that holds gradients of trainable parameters accessed\n",
        "                # during loss calculation via get_variables methods\n",
        "                variables_grad = []\n",
        "                assert variables is not None\n",
        "                # Loss gradient w.r.t logistic regression inputs\n",
        "                # Used with chain rule from calculus to calculate the\n",
        "                # downstream gradients w.r.t. dense layer weights and biases.\n",
        "                x_grad = tf.multiply(*tf.meshgrid(self.logistic.w, predicted - y))\n",
        "                x_grad = tf.ensure_shape(x_grad, shape=(predicted.shape[0], self.logistic.w.shape[0]))\n",
        "                x_grad = upstream_grad * x_grad  # (None x n_features)\n",
        "                # Loss gradient w.r.t true labels; not used                \n",
        "                y_grad = None\n",
        "                # Loss gradient w.r.t logistic regression weights\n",
        "                w_grad = tf.reduce_mean((predicted - y) * x, axis=0)\n",
        "                w_grad = tf.reshape(w_grad, shape=tf.shape(self.logistic.w))\n",
        "                w_grad = upstream_grad * w_grad\n",
        "                # Loss gradient w.r.t. logistic regression bias\n",
        "                b_grad = tf.reduce_mean(predicted - y, axis=0)\n",
        "                b_grad = upstream_grad * b_grad\n",
        "                variables_grad.append(w_grad)\n",
        "                variables_grad.append(b_grad)\n",
        "                \n",
        "                # Return the gradients w.r.t. logistic_loss arguments (first item)\n",
        "                # and w.r.t to trainable parameters (weights, biases) accessed with the\n",
        "                # get_variables method to calculate the loss\n",
        "                \n",
        "                return (x_grad, y_grad), variables_grad\n",
        "\n",
        "            return loss_result, gradient\n",
        "\n",
        "        loss = logistic_loss(logistic_features, label)\n",
        "\n",
        "        return loss\n",
        "\n",
        "    def train_step(self, data):\n",
        "        x, y = data\n",
        "        y = tf.reshape(tf.cast(y, tf.float32), shape=(-1, 1))  # (batch_size x 1)\n",
        "        if not self.logistic.trainable_weights:\n",
        "            _ = self(x)  # required to initialize layer parameters with build() method\n",
        "        with tf.GradientTape() as tape:\n",
        "            loss = self.loss_fn(x, y)\n",
        "        grads = tape.gradient(loss, self.trainable_weights)\n",
        "        # Tell the optimizer to apply gradients on specified variables\n",
        "        self.optimizer.apply_gradients(zip(grads, self.trainable_weights))\n",
        "        # Update the running loss\n",
        "        self.loss_tracker.update_state(loss)\n",
        "        return {\"loss\": self.loss_tracker.result()}\n",
        "\n",
        "    def call(self, inputs):\n",
        "        logistic_input = self.nn_block(inputs) if self.nn_block else inputs\n",
        "        return self.logistic(logistic_input)"
      ],
      "metadata": {
        "id": "yP1SIh0VgEBa"
      },
      "execution_count": 9,
      "outputs": []
    },
    {
      "cell_type": "code",
      "source": [
        "class ReportWeightsCallback(tf.keras.callbacks.Callback):\n",
        "    def __init__(self):\n",
        "        super().__init__()\n",
        "\n",
        "    def on_epoch_end(self, epoch, logs=None):\n",
        "        print(self.model.get_weights())"
      ],
      "metadata": {
        "id": "VZr8LYIrgD8V"
      },
      "execution_count": 10,
      "outputs": []
    },
    {
      "cell_type": "code",
      "source": [
        "model = CustomModel(nn_block=dense, name=\"nn_logistic_model\")\n",
        "model.compile(optimizer=tf.keras.optimizers.SGD(learning_rate=1e-4))\n",
        "model.fit(ds, epochs=5, callbacks=[ReportWeightsCallback()])"
      ],
      "metadata": {
        "colab": {
          "base_uri": "https://localhost:8080/"
        },
        "id": "8z-tK-ebgkbU",
        "outputId": "1a24bea2-d5d5-4aa9-c0e1-1c7bb4efc308"
      },
      "execution_count": 11,
      "outputs": [
        {
          "output_type": "stream",
          "name": "stdout",
          "text": [
            "Epoch 1/5\n",
            " 1/10 [==>...........................] - ETA: 5s - loss: 0.3964[array([[ 0.44023272,  0.09094044,  0.16280405, -0.06908312],\n",
            "       [-0.23155104,  0.1355314 , -0.05066523,  0.43366265],\n",
            "       [-0.06188461,  0.1093087 ,  0.1608595 , -0.14510208],\n",
            "       [ 0.0711062 ,  0.09652383,  0.22005047,  0.26559407],\n",
            "       [-0.14420123,  0.17159823,  0.39667857, -0.3854463 ],\n",
            "       [ 0.35798386,  0.23194352,  0.43772295, -0.12702398],\n",
            "       [-0.02942524,  0.44041955, -0.07873238,  0.05501085],\n",
            "       [ 0.12390338,  0.12265257, -0.15077321,  0.17889762],\n",
            "       [ 0.01787707,  0.36869952, -0.1532474 ,  0.07990661],\n",
            "       [-0.18903798, -0.07746837,  0.15345986, -0.42206267],\n",
            "       [-0.22069892, -0.44832066, -0.13565437, -0.31968084],\n",
            "       [-0.11970737,  0.21496074, -0.25022247, -0.01439001],\n",
            "       [ 0.01688699, -0.4044529 ,  0.15093064, -0.19210514],\n",
            "       [ 0.12802374,  0.12552813, -0.44976383, -0.27050754],\n",
            "       [ 0.06746761, -0.45451078, -0.42895716,  0.09177345],\n",
            "       [-0.07146163, -0.32361516, -0.3087454 , -0.08990104],\n",
            "       [-0.22243638,  0.27886552,  0.18569104,  0.22403875],\n",
            "       [-0.0540627 ,  0.29862002,  0.37696835,  0.0857696 ],\n",
            "       [ 0.25743902, -0.05406195,  0.19159326,  0.07726955],\n",
            "       [-0.3156648 , -0.4110668 , -0.19551927,  0.4536807 ],\n",
            "       [ 0.26969343,  0.28117138,  0.22045761, -0.26382884],\n",
            "       [-0.27995378,  0.33871153,  0.30555144, -0.20611133],\n",
            "       [-0.4147718 , -0.06059201, -0.11413576, -0.3928638 ],\n",
            "       [-0.19612294, -0.36048952,  0.14021419, -0.049321  ]],\n",
            "      dtype=float32), array([-5.8924896e-05, -1.2404371e-04,  1.9866835e-04,  4.5278299e-05],\n",
            "      dtype=float32), array([[-0.01905514],\n",
            "       [-0.04036849],\n",
            "       [ 0.06384651],\n",
            "       [ 0.01295824]], dtype=float32), array([-0.0329589], dtype=float32), 4.0850234, 10.0]\n",
            "10/10 [==============================] - 1s 3ms/step - loss: 0.4085\n",
            "Epoch 2/5\n",
            " 1/10 [==>...........................] - ETA: 0s - loss: 0.4329[array([[ 0.43965423,  0.08971582,  0.1647379 , -0.06871317],\n",
            "       [-0.2299227 ,  0.13897437, -0.05610177,  0.43263727],\n",
            "       [-0.06228855,  0.10845357,  0.16220978, -0.1448443 ],\n",
            "       [ 0.07585994,  0.10657798,  0.20418549,  0.26264367],\n",
            "       [-0.14456785,  0.17082189,  0.3979049 , -0.38520983],\n",
            "       [ 0.35762897,  0.23119201,  0.4389095 , -0.1267972 ],\n",
            "       [-0.02968545,  0.43986845, -0.07786226,  0.05517795],\n",
            "       [ 0.12370799,  0.12223879, -0.15011974,  0.17902295],\n",
            "       [ 0.01786597,  0.36867568, -0.15320976,  0.07991491],\n",
            "       [-0.1919551 , -0.0836452 ,  0.16321796, -0.42017633],\n",
            "       [-0.22096784, -0.44889   , -0.13475546, -0.31950903],\n",
            "       [-0.11983156,  0.21469778, -0.2498071 , -0.01430985],\n",
            "       [ 0.01680405, -0.40462863,  0.15120813, -0.19205147],\n",
            "       [ 0.12791945,  0.12530725, -0.44941494, -0.27043998],\n",
            "       [ 0.06737548, -0.4547059 , -0.428649  ,  0.09183253],\n",
            "       [-0.07144445, -0.3235789 , -0.3088027 , -0.08991153],\n",
            "       [-0.2224599 ,  0.2788157 ,  0.18576972,  0.22405384],\n",
            "       [-0.05413003,  0.29847747,  0.37719345,  0.08581275],\n",
            "       [ 0.2574484 , -0.0540421 ,  0.19156198,  0.07726379],\n",
            "       [-0.3156515 , -0.41103867, -0.1955635 ,  0.45367283],\n",
            "       [ 0.26958165,  0.2809347 ,  0.22083122, -0.26375803],\n",
            "       [-0.2799549 ,  0.33870918,  0.30555516, -0.20611052],\n",
            "       [-0.41480184, -0.06065558, -0.11403541, -0.39284474],\n",
            "       [-0.19618137, -0.36061332,  0.14040959, -0.0492838 ]],\n",
            "      dtype=float32), array([-1.3350442e-04, -2.8198690e-04,  4.4809849e-04,  9.3221621e-05],\n",
            "      dtype=float32), array([[-0.019191  ],\n",
            "       [-0.04071328],\n",
            "       [ 0.06377695],\n",
            "       [ 0.01108326]], dtype=float32), array([-0.03291987], dtype=float32), 4.193171, 10.0]\n",
            "10/10 [==============================] - 0s 2ms/step - loss: 0.4193\n",
            "Epoch 3/5\n",
            " 1/10 [==>...........................] - ETA: 0s - loss: 0.4152[array([[ 0.43905106,  0.08843822,  0.1667337 , -0.068391  ],\n",
            "       [-0.2286903 ,  0.14156961, -0.06016941,  0.43198803],\n",
            "       [-0.0627145 ,  0.10755085,  0.16361944, -0.14461654],\n",
            "       [ 0.07975318,  0.1147965 ,  0.19131961,  0.26058075],\n",
            "       [-0.14495623,  0.16999885,  0.39918974, -0.3850036 ],\n",
            "       [ 0.357245  ,  0.2303777 ,  0.44018018, -0.126593  ],\n",
            "       [-0.02996978,  0.43926537, -0.07692105,  0.05533017],\n",
            "       [ 0.12348842,  0.12177293, -0.14939275,  0.17914099],\n",
            "       [ 0.01782697,  0.36859173, -0.15307999,  0.07993668],\n",
            "       [-0.1950986 , -0.09031586,  0.1736306 , -0.4184717 ],\n",
            "       [-0.22126141, -0.44951278, -0.13378341, -0.3193513 ],\n",
            "       [-0.11996816,  0.21440797, -0.24935481, -0.0142362 ],\n",
            "       [ 0.01671092, -0.4048262 ,  0.15151648, -0.1920013 ],\n",
            "       [ 0.12780006,  0.12505384, -0.4490195 , -0.27037567],\n",
            "       [ 0.06727412, -0.45492098, -0.4283134 ,  0.09188696],\n",
            "       [-0.07142828, -0.32354477, -0.30885625, -0.08992045],\n",
            "       [-0.22248614,  0.27876028,  0.18585639,  0.22406766],\n",
            "       [-0.05420548,  0.29831728,  0.3774433 ,  0.08585326],\n",
            "       [ 0.2574571 , -0.05402369,  0.19153316,  0.07725916],\n",
            "       [-0.3156401 , -0.41101468, -0.19560118,  0.45366687],\n",
            "       [ 0.26946414,  0.28068584,  0.22122   , -0.26369494],\n",
            "       [-0.279956  ,  0.33870676,  0.30555883, -0.20610996],\n",
            "       [-0.41483194, -0.0607193 , -0.11393587, -0.3928288 ],\n",
            "       [-0.19624555, -0.36074963,  0.1406222 , -0.04924921]],\n",
            "      dtype=float32), array([-0.00021718, -0.00045957,  0.00072515,  0.00013815], dtype=float32), array([[-0.01937033],\n",
            "       [-0.0410079 ],\n",
            "       [ 0.06386265],\n",
            "       [ 0.00937899]], dtype=float32), array([-0.03287642], dtype=float32), 4.250106, 10.0]\n",
            "10/10 [==============================] - 0s 3ms/step - loss: 0.4250\n",
            "Epoch 4/5\n",
            " 1/10 [==>...........................] - ETA: 0s - loss: 0.4392[array([[ 0.43842176,  0.08710305,  0.16880323, -0.06811188],\n",
            "       [-0.22786008,  0.1433299 , -0.06291033,  0.4315872 ],\n",
            "       [-0.06316496,  0.10659463,  0.1651004 , -0.14441916],\n",
            "       [ 0.08276215,  0.12118722,  0.18139206,  0.25916052],\n",
            "       [-0.14536847,  0.16912465,  0.4005443 , -0.38482416],\n",
            "       [ 0.35682875,  0.229494  ,  0.44154862, -0.12641059],\n",
            "       [-0.03028252,  0.4386022 , -0.07589372,  0.05546581],\n",
            "       [ 0.1232409 ,  0.12124724, -0.14857973,  0.17924699],\n",
            "       [ 0.01775715,  0.36844316, -0.1528512 ,  0.07996449],\n",
            "       [-0.19852191, -0.09758282,  0.18487607, -0.41700044],\n",
            "       [-0.22158201, -0.4501931 , -0.13272993, -0.31921217],\n",
            "       [-0.12011892,  0.21408775, -0.24885938, -0.01417097],\n",
            "       [ 0.01660625, -0.40504846,  0.1518604 , -0.19195607],\n",
            "       [ 0.12766387,  0.12476472, -0.44857213, -0.27031723],\n",
            "       [ 0.06716257, -0.45515773, -0.4279469 ,  0.09193531],\n",
            "       [-0.07141338, -0.3235133 , -0.3089052 , -0.08992728],\n",
            "       [-0.22251551,  0.27869812,  0.18595292,  0.22408068],\n",
            "       [-0.05429008,  0.29813772,  0.3777213 ,  0.08588995],\n",
            "       [ 0.25746527, -0.05400636,  0.1915062 ,  0.07725531],\n",
            "       [-0.315631  , -0.41099548, -0.19563115,  0.45366263],\n",
            "       [ 0.26934075,  0.28042406,  0.22162576, -0.26364037],\n",
            "       [-0.27995712,  0.33870447,  0.30556244, -0.20610937],\n",
            "       [-0.41486216, -0.06078332, -0.11383663, -0.39281574],\n",
            "       [-0.19631632, -0.36090004,  0.1408549 , -0.04921808]],\n",
            "      dtype=float32), array([-0.00031098, -0.00065869,  0.00103336,  0.00017872], dtype=float32), array([[-0.01959263],\n",
            "       [-0.04124806],\n",
            "       [ 0.06409512],\n",
            "       [ 0.00782569]], dtype=float32), array([-0.03282813], dtype=float32), 4.3173575, 10.0]\n",
            "10/10 [==============================] - 0s 2ms/step - loss: 0.4317\n",
            "Epoch 5/5\n",
            " 1/10 [==>...........................] - ETA: 0s - loss: 0.4195[array([[ 0.43781158,  0.08582027,  0.1707925 , -0.06789129],\n",
            "       [-0.22697057,  0.14519095, -0.06580602,  0.43126258],\n",
            "       [-0.06359398,  0.10569258,  0.16649933, -0.14426313],\n",
            "       [ 0.08570116,  0.1273492 ,  0.17181425,  0.2580811 ],\n",
            "       [-0.1457643 ,  0.16829215,  0.40183532, -0.38467947],\n",
            "       [ 0.35644272,  0.22868185,  0.4428075 , -0.1262708 ],\n",
            "       [-0.0305726 ,  0.43799177, -0.07494769,  0.05557052],\n",
            "       [ 0.12301978,  0.12078168, -0.14785828,  0.17932737],\n",
            "       [ 0.0177045 ,  0.3683316 , -0.15267904,  0.07998397],\n",
            "       [-0.20154732, -0.10395113,  0.19474617, -0.41589835],\n",
            "       [-0.22188035, -0.45082092, -0.13175692, -0.31910416],\n",
            "       [-0.12025724,  0.21379665, -0.24840815, -0.01412056],\n",
            "       [ 0.01651193, -0.40524703,  0.15216799, -0.1919222 ],\n",
            "       [ 0.127538  ,  0.12449986, -0.44816145, -0.27027115],\n",
            "       [ 0.06705981, -0.45537403, -0.42761168,  0.09197254],\n",
            "       [-0.07139511, -0.32347497, -0.30896473, -0.08993369],\n",
            "       [-0.22254512,  0.27863577,  0.18604954,  0.22409125],\n",
            "       [-0.05436676,  0.29797626,  0.37797147,  0.08591745],\n",
            "       [ 0.25747347, -0.05398913,  0.19147953,  0.07725248],\n",
            "       [-0.31562036, -0.4109733 , -0.19566557,  0.453659  ],\n",
            "       [ 0.26922303,  0.2801766 ,  0.22200942, -0.26359814],\n",
            "       [-0.27995783,  0.33870286,  0.30556494, -0.20610914],\n",
            "       [-0.41488954, -0.06084087, -0.11374727, -0.3928056 ],\n",
            "       [-0.19638206, -0.3610385 ,  0.14106946, -0.04919416]],\n",
            "      dtype=float32), array([-0.00039638, -0.00083848,  0.00131194,  0.00020963], dtype=float32), array([[-0.0197796 ],\n",
            "       [-0.04149632],\n",
            "       [ 0.06432783],\n",
            "       [ 0.00639088]], dtype=float32), array([-0.03278471], dtype=float32), 4.2406154, 10.0]\n",
            "10/10 [==============================] - 0s 3ms/step - loss: 0.4241\n"
          ]
        },
        {
          "output_type": "execute_result",
          "data": {
            "text/plain": [
              "<keras.callbacks.History at 0x7f9d76685c90>"
            ]
          },
          "metadata": {},
          "execution_count": 11
        }
      ]
    },
    {
      "cell_type": "markdown",
      "source": [
        "Custom Optimizer "
      ],
      "metadata": {
        "id": "EnmSp1_RiL6v"
      }
    },
    {
      "cell_type": "markdown",
      "source": [
        "modified adam optimizer's behavior"
      ],
      "metadata": {
        "id": "uIZSGQelVLim"
      }
    },
    {
      "cell_type": "code",
      "source": [
        "class CustomOptimizer(tf.keras.optimizers.Adam):\n",
        "  def __init__(self, dropout_rate):\n",
        "    super().__init__()\n",
        "    self.dropout_rate = dropout_rate\n",
        "  \n",
        "  def _resource_apply_dense(self, grad, var):\n",
        "    dropout_mask = tf.keras.backend.random_binomial(tf.shape(var), p=1-self.dropout_rate)\n",
        "    grad = grad * dropout_mask\n",
        "    return super()._resource_apply_dense(grad, var)"
      ],
      "metadata": {
        "id": "O--qmHjEiOFK"
      },
      "execution_count": 16,
      "outputs": []
    },
    {
      "cell_type": "code",
      "source": [
        "model.compile(optimizer=CustomOptimizer(dropout_rate=0.1), loss='binary_crossentropy', metrics=['accuracy'])\n",
        "\n",
        "model.fit(train_dataset, epochs=2, batch_size=16, validation_data=test_dataset)"
      ],
      "metadata": {
        "colab": {
          "base_uri": "https://localhost:8080/"
        },
        "id": "EYYTdFTgiTI0",
        "outputId": "dc03857f-60ed-42c6-bdc9-9a0763dc976f"
      },
      "execution_count": 17,
      "outputs": [
        {
          "output_type": "stream",
          "name": "stdout",
          "text": [
            "Epoch 1/2\n",
            "400/400 [==============================] - 48s 106ms/step - loss: 1.1322 - accuracy: 0.5475 - val_loss: 0.6874 - val_accuracy: 0.5350\n",
            "Epoch 2/2\n",
            "400/400 [==============================] - 41s 104ms/step - loss: 0.7160 - accuracy: 0.5875 - val_loss: 0.6499 - val_accuracy: 0.7225\n"
          ]
        },
        {
          "output_type": "execute_result",
          "data": {
            "text/plain": [
              "<keras.callbacks.History at 0x7fc8f747a6b0>"
            ]
          },
          "metadata": {},
          "execution_count": 17
        }
      ]
    },
    {
      "cell_type": "markdown",
      "source": [
        "Custom Learning Rate Scheduler"
      ],
      "metadata": {
        "id": "OvS-wT4lZOKg"
      }
    },
    {
      "cell_type": "code",
      "source": [
        "def custom_learning_rate_schedule(epoch, lr):\n",
        "    if epoch % 10 == 0 and epoch > 0:\n",
        "        return lr * 0.1\n",
        "    return lr\n",
        "\n",
        "# Model with custom learning rate scheduler\n",
        "model = models.Sequential([\n",
        "    layers.Conv2D(32, kernel_size=(3, 3), activation='relu', input_shape=(28, 28, 1)),\n",
        "    layers.MaxPooling2D(pool_size=(2, 2)),\n",
        "    layers.Conv2D(64, kernel_size=(3, 3), activation='relu'),\n",
        "    layers.MaxPooling2D(pool_size=(2, 2)),\n",
        "    layers.Flatten(),\n",
        "    layers.Dense(128, activation='relu'),\n",
        "    layers.Dropout(0.2),\n",
        "    layers.Dense(10, activation='softmax')\n",
        "])\n",
        "\n",
        "model.compile(optimizer='adam',\n",
        "              loss=tf.keras.losses.SparseCategoricalCrossentropy(),\n",
        "              metrics=['accuracy'])\n",
        "\n",
        "callback = tf.keras.callbacks.LearningRateScheduler(custom_learning_rate_schedule)\n",
        "\n",
        "model.fit(x_train, y_train, epochs=5, validation_split=0.1, callbacks=[callback])\n"
      ],
      "metadata": {
        "colab": {
          "base_uri": "https://localhost:8080/"
        },
        "id": "ovXxC3djXmSJ",
        "outputId": "17152296-6ae2-49a1-ca65-ba31eb3b2c08"
      },
      "execution_count": null,
      "outputs": [
        {
          "output_type": "stream",
          "name": "stdout",
          "text": [
            "Epoch 1/5\n",
            "1688/1688 [==============================] - 62s 36ms/step - loss: 0.1579 - accuracy: 0.9515 - val_loss: 0.0508 - val_accuracy: 0.9835 - lr: 0.0010\n",
            "Epoch 2/5\n",
            "1688/1688 [==============================] - 57s 34ms/step - loss: 0.0535 - accuracy: 0.9839 - val_loss: 0.0405 - val_accuracy: 0.9888 - lr: 0.0010\n",
            "Epoch 3/5\n",
            "1688/1688 [==============================] - 56s 33ms/step - loss: 0.0369 - accuracy: 0.9884 - val_loss: 0.0334 - val_accuracy: 0.9900 - lr: 0.0010\n",
            "Epoch 4/5\n",
            "1688/1688 [==============================] - 57s 34ms/step - loss: 0.0270 - accuracy: 0.9916 - val_loss: 0.0376 - val_accuracy: 0.9898 - lr: 0.0010\n",
            "Epoch 5/5\n",
            "1688/1688 [==============================] - 58s 34ms/step - loss: 0.0224 - accuracy: 0.9930 - val_loss: 0.0330 - val_accuracy: 0.9913 - lr: 0.0010\n"
          ]
        },
        {
          "output_type": "execute_result",
          "data": {
            "text/plain": [
              "<keras.callbacks.History at 0x7fda641d35e0>"
            ]
          },
          "metadata": {},
          "execution_count": 13
        }
      ]
    }
  ]
}