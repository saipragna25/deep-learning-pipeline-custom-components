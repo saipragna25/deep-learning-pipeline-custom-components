{
  "nbformat": 4,
  "nbformat_minor": 0,
  "metadata": {
    "colab": {
      "provenance": [],
      "authorship_tag": "ABX9TyOF6GjKVO2VMvhlfjb71zl8",
      "include_colab_link": true
    },
    "kernelspec": {
      "name": "python3",
      "display_name": "Python 3"
    },
    "language_info": {
      "name": "python"
    }
  },
  "cells": [
    {
      "cell_type": "markdown",
      "metadata": {
        "id": "view-in-github",
        "colab_type": "text"
      },
      "source": [
        "<a href=\"https://colab.research.google.com/github/saipragna25/deep-learning-pipeline-custom-components/blob/main/DL_pipeline_custom_components.ipynb\" target=\"_parent\"><img src=\"https://colab.research.google.com/assets/colab-badge.svg\" alt=\"Open In Colab\"/></a>"
      ]
    },
    {
      "cell_type": "code",
      "execution_count": null,
      "metadata": {
        "id": "XKN7m7m9GTRC"
      },
      "outputs": [],
      "source": [
        "import tensorflow as tf\n",
        "from tensorflow.keras import layers, models\n",
        "import numpy as np\n",
        "import matplotlib.pyplot as plt\n"
      ]
    },
    {
      "cell_type": "markdown",
      "source": [
        "Load the MNIST dataset:"
      ],
      "metadata": {
        "id": "_xSbk4boSj-W"
      }
    },
    {
      "cell_type": "code",
      "source": [
        "(x_train, y_train), (x_test, y_test) = tf.keras.datasets.mnist.load_data()\n",
        "x_train = x_train.reshape(-1, 28, 28, 1).astype(\"float32\") / 255\n",
        "x_test = x_test.reshape(-1, 28, 28, 1).astype(\"float32\") / 255"
      ],
      "metadata": {
        "id": "u19lHt2DSjfU"
      },
      "execution_count": null,
      "outputs": []
    },
    {
      "cell_type": "markdown",
      "source": [
        "custom loss function"
      ],
      "metadata": {
        "id": "KYJwGpZRTDdW"
      }
    },
    {
      "cell_type": "code",
      "source": [
        "# Custom loss function\n",
        "class CustomLoss(tf.keras.losses.Loss):\n",
        "    def call(self, y_true, y_pred):\n",
        "        y_true = tf.cast(y_true, tf.float32)\n",
        "        return tf.reduce_mean(tf.square(y_true - y_pred))\n",
        "\n",
        "# Model with custom loss function\n",
        "model = models.Sequential([\n",
        "    layers.Conv2D(32, kernel_size=(3, 3), activation='relu', input_shape=(28, 28, 1)),\n",
        "    layers.MaxPooling2D(pool_size=(2, 2)),\n",
        "    layers.Conv2D(64, kernel_size=(3, 3), activation='relu'),\n",
        "    layers.MaxPooling2D(pool_size=(2, 2)),\n",
        "    layers.Flatten(),\n",
        "    layers.Dense(128, activation='relu'),\n",
        "    layers.Dropout(0.2),\n",
        "    layers.Dense(10, activation='softmax')\n",
        "])\n",
        "\n",
        "model.compile(optimizer='adam',\n",
        "              loss=CustomLoss(),\n",
        "              metrics=['accuracy'])\n",
        "\n",
        "model.fit(x_train, y_train, epochs=5, validation_split=0.1)\n"
      ],
      "metadata": {
        "colab": {
          "base_uri": "https://localhost:8080/"
        },
        "id": "Kcx8jGe6SqAw",
        "outputId": "89bc4b7a-827c-42ea-8149-f96c34889a36"
      },
      "execution_count": null,
      "outputs": [
        {
          "output_type": "stream",
          "name": "stdout",
          "text": [
            "Epoch 1/5\n",
            "1688/1688 [==============================] - 62s 36ms/step - loss: 27.2875 - accuracy: 0.0963 - val_loss: 27.4584 - val_accuracy: 0.0990\n",
            "Epoch 2/5\n",
            "1688/1688 [==============================] - 57s 34ms/step - loss: 27.2875 - accuracy: 0.1020 - val_loss: 27.4584 - val_accuracy: 0.1048\n",
            "Epoch 3/5\n",
            "1688/1688 [==============================] - 58s 34ms/step - loss: 27.2875 - accuracy: 0.1014 - val_loss: 27.4584 - val_accuracy: 0.0955\n",
            "Epoch 4/5\n",
            "1688/1688 [==============================] - 65s 39ms/step - loss: 27.2875 - accuracy: 0.1002 - val_loss: 27.4584 - val_accuracy: 0.0953\n",
            "Epoch 5/5\n",
            "1688/1688 [==============================] - 55s 33ms/step - loss: 27.2874 - accuracy: 0.1007 - val_loss: 27.4584 - val_accuracy: 0.0953\n"
          ]
        },
        {
          "output_type": "execute_result",
          "data": {
            "text/plain": [
              "<keras.callbacks.History at 0x7fda6151d9c0>"
            ]
          },
          "metadata": {},
          "execution_count": 10
        }
      ]
    },
    {
      "cell_type": "markdown",
      "source": [
        "Custom Regularizer"
      ],
      "metadata": {
        "id": "W2AJAvnNXfnr"
      }
    },
    {
      "cell_type": "code",
      "source": [
        "# Custom regularizer\n",
        "class CustomRegularizer(tf.keras.regularizers.Regularizer):\n",
        "    def __init__(self, l1=0.0, l2=0.0):\n",
        "        self.l1 = l1\n",
        "        self.l2 = l2\n",
        "\n",
        "    def __call__(self, x):\n",
        "        loss = 0.0\n",
        "        if self.l1:\n",
        "            loss += tf.reduce_sum(self.l1 * tf.abs(x))\n",
        "        if self.l2:\n",
        "            loss += tf.reduce_sum(self.l2 * tf.square(x))\n",
        "        return loss\n",
        "\n",
        "# Model with custom regularizer\n",
        "model = models.Sequential([\n",
        "    layers.Conv2D(32, kernel_size=(3, 3), activation='relu', input_shape=(28, 28, 1), kernel_regularizer=CustomRegularizer(l1=1e-5, l2=1e-4)),\n",
        "    layers.MaxPooling2D(pool_size=(2, 2)),\n",
        "    layers.Conv2D(64, kernel_size=(3, 3), activation='relu', kernel_regularizer=CustomRegularizer(l1=1e-5, l2=1e-4)),\n",
        "    layers.MaxPooling2D(pool_size=(2, 2)),\n",
        "    layers.Flatten(),\n",
        "    layers.Dense(128, activation='relu', kernel_regularizer=CustomRegularizer(l1=1e-5, l2=1e-4)),\n",
        "    layers.Dropout(0.2),\n",
        "    layers.Dense(10, activation='softmax')\n",
        "])\n",
        "\n",
        "model.compile(optimizer='adam',\n",
        "              loss=tf.keras.losses.SparseCategoricalCrossentropy(),\n",
        "              metrics=['accuracy'])\n",
        "\n",
        "model.fit(x_train, y_train, epochs=5, validation_split=0.1)\n"
      ],
      "metadata": {
        "colab": {
          "base_uri": "https://localhost:8080/"
        },
        "id": "ucJMqWtXXO2d",
        "outputId": "93b046dc-1887-48bc-e13e-e4e167f7021b"
      },
      "execution_count": null,
      "outputs": [
        {
          "output_type": "stream",
          "name": "stdout",
          "text": [
            "Epoch 1/5\n",
            "1688/1688 [==============================] - 62s 36ms/step - loss: 0.2435 - accuracy: 0.9483 - val_loss: 0.1237 - val_accuracy: 0.9847\n",
            "Epoch 2/5\n",
            "1688/1688 [==============================] - 59s 35ms/step - loss: 0.1284 - accuracy: 0.9815 - val_loss: 0.1014 - val_accuracy: 0.9907\n",
            "Epoch 3/5\n",
            "1688/1688 [==============================] - 58s 35ms/step - loss: 0.1117 - accuracy: 0.9840 - val_loss: 0.0901 - val_accuracy: 0.9910\n",
            "Epoch 4/5\n",
            "1688/1688 [==============================] - 59s 35ms/step - loss: 0.0978 - accuracy: 0.9871 - val_loss: 0.0891 - val_accuracy: 0.9897\n",
            "Epoch 5/5\n",
            "1688/1688 [==============================] - 58s 34ms/step - loss: 0.0917 - accuracy: 0.9870 - val_loss: 0.0881 - val_accuracy: 0.9887\n"
          ]
        },
        {
          "output_type": "execute_result",
          "data": {
            "text/plain": [
              "<keras.callbacks.History at 0x7fda64e6fa90>"
            ]
          },
          "metadata": {},
          "execution_count": 11
        }
      ]
    },
    {
      "cell_type": "markdown",
      "source": [
        "Custom activation function"
      ],
      "metadata": {
        "id": "1i46MlX3Xs_Y"
      }
    },
    {
      "cell_type": "code",
      "source": [
        "# Custom activation function\n",
        "@tf.function\n",
        "def custom_activation(x):\n",
        "    return tf.maximum(0.0, x) * tf.sin(x)\n",
        "\n",
        "# Model with custom activation function\n",
        "model = models.Sequential([\n",
        "    layers.Conv2D(32, kernel_size=(3, 3), input_shape=(28, 28, 1)),\n",
        "    layers.Activation(custom_activation),\n",
        "    layers.MaxPooling2D(pool_size=(2, 2)),\n",
        "    layers.Conv2D(64, kernel_size=(3, 3)),\n",
        "    layers.Activation(custom_activation),\n",
        "    layers.MaxPooling2D(pool_size=(2, 2)),\n",
        "    layers.Flatten(),\n",
        "    layers.Dense(128),\n",
        "    layers.Activation(custom_activation),\n",
        "    layers.Dropout(0.2),\n",
        "    layers.Dense(10, activation='softmax')\n",
        "])\n",
        "\n",
        "model.compile(optimizer='adam',\n",
        "              loss=tf.keras.losses.SparseCategoricalCrossentropy(),\n",
        "              metrics=['accuracy'])\n",
        "\n",
        "model.fit(x_train, y_train, epochs=5, validation_split=0.1)\n"
      ],
      "metadata": {
        "colab": {
          "base_uri": "https://localhost:8080/"
        },
        "id": "yNl-Y_P4Xl8O",
        "outputId": "316e9d37-64a2-4cba-893f-fe788ddff796"
      },
      "execution_count": null,
      "outputs": [
        {
          "output_type": "stream",
          "name": "stdout",
          "text": [
            "Epoch 1/5\n",
            "1688/1688 [==============================] - 76s 45ms/step - loss: 0.1826 - accuracy: 0.9444 - val_loss: 0.0430 - val_accuracy: 0.9893\n",
            "Epoch 2/5\n",
            "1688/1688 [==============================] - 73s 43ms/step - loss: 0.0494 - accuracy: 0.9855 - val_loss: 0.0392 - val_accuracy: 0.9887\n",
            "Epoch 3/5\n",
            "1688/1688 [==============================] - 75s 44ms/step - loss: 0.0338 - accuracy: 0.9896 - val_loss: 0.0333 - val_accuracy: 0.9902\n",
            "Epoch 4/5\n",
            "1688/1688 [==============================] - 74s 44ms/step - loss: 0.0235 - accuracy: 0.9925 - val_loss: 0.0314 - val_accuracy: 0.9905\n",
            "Epoch 5/5\n",
            "1688/1688 [==============================] - 74s 44ms/step - loss: 0.0183 - accuracy: 0.9942 - val_loss: 0.0357 - val_accuracy: 0.9902\n"
          ]
        },
        {
          "output_type": "execute_result",
          "data": {
            "text/plain": [
              "<keras.callbacks.History at 0x7fda63b5e470>"
            ]
          },
          "metadata": {},
          "execution_count": 12
        }
      ]
    },
    {
      "cell_type": "markdown",
      "source": [
        "  Custom Initializer"
      ],
      "metadata": {
        "id": "qbB2SqCYegBe"
      }
    },
    {
      "cell_type": "code",
      "source": [
        "class CustomInitializer(tf.keras.initializers.Initializer):\n",
        "    def __call__(self, shape, dtype=None):\n",
        "        return tf.random.normal(shape, mean=0., stddev=0.05)\n",
        "\n",
        "# Model with custom initializer\n",
        "model = models.Sequential([\n",
        "    layers.Conv2D(32, kernel_size=(3, 3), activation='relu', input_shape=(28, 28, 1), kernel_initializer=CustomInitializer()),\n",
        "    layers.MaxPooling2D(pool_size=(2, 2)),\n",
        "    layers.Conv2D(64, kernel_size=(3, 3), activation='relu', kernel_initializer=CustomInitializer()),\n",
        "    layers.MaxPooling2D(pool_size=(2, 2)),\n",
        "    layers.Flatten(),\n",
        "    layers.Dense(128, activation='relu', kernel_initializer=CustomInitializer()),\n",
        "    layers.Dropout(0.2),\n",
        "    layers.Dense(10, activation='softmax')\n",
        "])\n",
        "\n",
        "model.compile(optimizer='adam',\n",
        "              loss=tf.keras.losses.SparseCategoricalCrossentropy(),\n",
        "              metrics=['accuracy'])\n",
        "\n",
        "model.fit(x_train, y_train, epochs=5, validation_split=0.1)\n"
      ],
      "metadata": {
        "colab": {
          "base_uri": "https://localhost:8080/"
        },
        "id": "Wa2ilzG2emra",
        "outputId": "9d205e0a-7df6-4743-9348-4f18abe476fd"
      },
      "execution_count": null,
      "outputs": [
        {
          "output_type": "stream",
          "name": "stdout",
          "text": [
            "Epoch 1/5\n",
            "1688/1688 [==============================] - 61s 36ms/step - loss: 0.1721 - accuracy: 0.9474 - val_loss: 0.0474 - val_accuracy: 0.9873\n",
            "Epoch 2/5\n",
            "1688/1688 [==============================] - 66s 39ms/step - loss: 0.0565 - accuracy: 0.9824 - val_loss: 0.0403 - val_accuracy: 0.9893\n",
            "Epoch 3/5\n",
            "1688/1688 [==============================] - 65s 39ms/step - loss: 0.0398 - accuracy: 0.9879 - val_loss: 0.0344 - val_accuracy: 0.9893\n",
            "Epoch 4/5\n",
            "1688/1688 [==============================] - 60s 35ms/step - loss: 0.0309 - accuracy: 0.9901 - val_loss: 0.0337 - val_accuracy: 0.9917\n",
            "Epoch 5/5\n",
            "1688/1688 [==============================] - 56s 33ms/step - loss: 0.0247 - accuracy: 0.9920 - val_loss: 0.0267 - val_accuracy: 0.9932\n"
          ]
        },
        {
          "output_type": "execute_result",
          "data": {
            "text/plain": [
              "<keras.callbacks.History at 0x7fda7c26e740>"
            ]
          },
          "metadata": {},
          "execution_count": 14
        }
      ]
    },
    {
      "cell_type": "markdown",
      "source": [
        "Custom kernel constraint"
      ],
      "metadata": {
        "id": "9UooxNqEex40"
      }
    },
    {
      "cell_type": "code",
      "source": [
        "class CustomConstraint(tf.keras.constraints.Constraint):\n",
        "    def __call__(self, w):\n",
        "        return tf.clip_by_value(w, -1.0, 1.0)\n",
        "\n",
        "# Model with custom kernel constraint\n",
        "model = models.Sequential([\n",
        "    layers.Conv2D(32, kernel_size=(3, 3), activation='relu', input_shape=(28, 28, 1), kernel_constraint=CustomConstraint()),\n",
        "    layers.MaxPooling2D(pool_size=(2, 2)),\n",
        "    layers.Conv2D(64, kernel_size=(3, 3), activation='relu', kernel_constraint=CustomConstraint()),\n",
        "    layers.MaxPooling2D(pool_size=(2, 2)),\n",
        "    layers.Flatten(),\n",
        "    layers.Dense(128, activation='relu', kernel_constraint=CustomConstraint()),\n",
        "    layers.Dropout(0.2),\n",
        "    layers.Dense(10, activation='softmax')\n",
        "])\n",
        "\n",
        "model.compile(optimizer='adam',\n",
        "              loss=tf.keras.losses.SparseCategoricalCrossentropy(),\n",
        "              metrics=['accuracy'])\n",
        "\n",
        "model.fit(x_train, y_train, epochs=5, validation_split=0.1)\n"
      ],
      "metadata": {
        "colab": {
          "base_uri": "https://localhost:8080/"
        },
        "id": "X_lDWiHdeyR3",
        "outputId": "0a7a2abe-8622-4909-c58d-9fcaac1013b3"
      },
      "execution_count": null,
      "outputs": [
        {
          "output_type": "stream",
          "name": "stdout",
          "text": [
            "Epoch 1/5\n",
            "1688/1688 [==============================] - 57s 33ms/step - loss: 0.1579 - accuracy: 0.9508 - val_loss: 0.0536 - val_accuracy: 0.9848\n",
            "Epoch 2/5\n",
            "1688/1688 [==============================] - 56s 33ms/step - loss: 0.0541 - accuracy: 0.9835 - val_loss: 0.0435 - val_accuracy: 0.9878\n",
            "Epoch 3/5\n",
            "1688/1688 [==============================] - 57s 34ms/step - loss: 0.0380 - accuracy: 0.9881 - val_loss: 0.0368 - val_accuracy: 0.9902\n",
            "Epoch 4/5\n",
            "1688/1688 [==============================] - 58s 34ms/step - loss: 0.0283 - accuracy: 0.9907 - val_loss: 0.0488 - val_accuracy: 0.9865\n",
            "Epoch 5/5\n",
            "1688/1688 [==============================] - 62s 37ms/step - loss: 0.0235 - accuracy: 0.9924 - val_loss: 0.0333 - val_accuracy: 0.9913\n"
          ]
        },
        {
          "output_type": "execute_result",
          "data": {
            "text/plain": [
              "<keras.callbacks.History at 0x7fda7c982800>"
            ]
          },
          "metadata": {},
          "execution_count": 15
        }
      ]
    },
    {
      "cell_type": "markdown",
      "source": [
        "Custom Metrics"
      ],
      "metadata": {
        "id": "6NY8JaTue7K2"
      }
    },
    {
      "cell_type": "code",
      "source": [
        "class CustomAccuracy(tf.keras.metrics.Metric):\n",
        "    def __init__(self, name=\"custom_accuracy\", **kwargs):\n",
        "        super(CustomAccuracy, self).__init__(name=name, **kwargs)\n",
        "        self.correct = self.add_weight(name=\"correct\", initializer=\"zeros\")\n",
        "        self.total = self.add_weight(name=\"total\", initializer=\"zeros\")\n",
        "\n",
        "    def update_state(self, y_true, y_pred, sample_weight=None):\n",
        "        y_true = tf.argmax(y_true, axis=-1)\n",
        "        y_pred = tf.argmax(y_pred, axis=-1)\n",
        "        self.correct.assign_add(tf.reduce_sum(tf.cast(y_true == y_pred, tf.float32)))\n",
        "        self.total.assign_add(tf.cast(tf.size(y_true), tf.float32))\n",
        "\n",
        "    def result(self):\n",
        "        return self.correct / self.total\n",
        "\n",
        "# Model with custom metrics\n",
        "model = models.Sequential([\n",
        "    layers.Conv2D(32, kernel_size=(3, 3), activation='relu', input_shape=(28, 28, 1)),\n",
        "    layers.MaxPooling2D(pool_size=(2, 2)),\n",
        "    layers.Conv2D(64, kernel_size=(3, 3), activation='relu'),\n",
        "    layers.MaxPooling2D(pool_size=(2, 2)),\n",
        "    layers.Flatten(),\n",
        "    layers.Dense(128, activation='relu'),\n",
        "    layers.Dropout(0.2),\n",
        "    layers.Dense(10, activation='softmax')\n",
        "])\n",
        "\n",
        "model.compile(optimizer='adam',\n",
        "              loss=tf.keras.losses.SparseCategoricalCrossentropy(),\n",
        "              metrics=[CustomAccuracy()])\n",
        "\n",
        "model.fit(x_train, y_train, epochs=5, validation_split=0.1)\n"
      ],
      "metadata": {
        "colab": {
          "base_uri": "https://localhost:8080/"
        },
        "id": "0No3oXYQe7on",
        "outputId": "6b9ee880-c5b8-4df6-8229-35f657eed793"
      },
      "execution_count": null,
      "outputs": [
        {
          "output_type": "stream",
          "name": "stdout",
          "text": [
            "Epoch 1/5\n",
            "1688/1688 [==============================] - 59s 35ms/step - loss: 0.1588 - custom_accuracy: 0.0984 - val_loss: 0.0439 - val_custom_accuracy: 0.0967\n",
            "Epoch 2/5\n",
            "1688/1688 [==============================] - 57s 34ms/step - loss: 0.0524 - custom_accuracy: 0.0990 - val_loss: 0.0350 - val_custom_accuracy: 0.0975\n",
            "Epoch 3/5\n",
            "1688/1688 [==============================] - 56s 33ms/step - loss: 0.0376 - custom_accuracy: 0.0990 - val_loss: 0.0340 - val_custom_accuracy: 0.0972\n",
            "Epoch 4/5\n",
            "1688/1688 [==============================] - 55s 32ms/step - loss: 0.0287 - custom_accuracy: 0.0989 - val_loss: 0.0340 - val_custom_accuracy: 0.0968\n",
            "Epoch 5/5\n",
            "1688/1688 [==============================] - 58s 34ms/step - loss: 0.0228 - custom_accuracy: 0.0988 - val_loss: 0.0311 - val_custom_accuracy: 0.0975\n"
          ]
        },
        {
          "output_type": "execute_result",
          "data": {
            "text/plain": [
              "<keras.callbacks.History at 0x7fda7c7c52d0>"
            ]
          },
          "metadata": {},
          "execution_count": 16
        }
      ]
    },
    {
      "cell_type": "markdown",
      "source": [
        "Custom Seed"
      ],
      "metadata": {
        "id": "kXLKVAkbfSRv"
      }
    },
    {
      "cell_type": "code",
      "source": [
        "import numpy as np\n",
        "import tensorflow as tf\n",
        "from tensorflow.keras import layers, models\n",
        "\n",
        "# Set the custom seed\n",
        "custom_seed = 42\n",
        "np.random.seed(custom_seed)\n",
        "tf.random.set_seed(custom_seed)\n",
        "\n",
        "# Model\n",
        "model = models.Sequential([\n",
        "    layers.Conv2D(32, kernel_size=(3, 3), activation='relu', input_shape=(28, 28, 1)),\n",
        "    layers.MaxPooling2D(pool_size=(2, 2)),\n",
        "    layers.Conv2D(64, kernel_size=(3, 3), activation='relu'),\n",
        "    layers.MaxPooling2D(pool_size=(2, 2)),\n",
        "    layers.Flatten(),\n",
        "    layers.Dense(128, activation='relu'),\n",
        "    layers.Dropout(0.2),\n",
        "    layers.Dense(10, activation='softmax')\n",
        "])\n",
        "\n",
        "model.compile(optimizer='adam',\n",
        "              loss=tf.keras.losses.SparseCategoricalCrossentropy(),\n",
        "              metrics=['accuracy'])\n",
        "\n",
        "model.fit(x_train, y_train, epochs=5, validation_split=0.1)\n"
      ],
      "metadata": {
        "colab": {
          "base_uri": "https://localhost:8080/"
        },
        "id": "hY7DzedffT28",
        "outputId": "6bf40056-1a97-4372-fddd-7b49405472ca"
      },
      "execution_count": null,
      "outputs": [
        {
          "output_type": "stream",
          "name": "stdout",
          "text": [
            "Epoch 1/5\n",
            "1688/1688 [==============================] - 58s 34ms/step - loss: 0.1523 - accuracy: 0.9524 - val_loss: 0.0511 - val_accuracy: 0.9857\n",
            "Epoch 2/5\n",
            "1688/1688 [==============================] - 57s 34ms/step - loss: 0.0539 - accuracy: 0.9834 - val_loss: 0.0428 - val_accuracy: 0.9870\n",
            "Epoch 3/5\n",
            "1688/1688 [==============================] - 55s 33ms/step - loss: 0.0375 - accuracy: 0.9882 - val_loss: 0.0294 - val_accuracy: 0.9915\n",
            "Epoch 4/5\n",
            "1688/1688 [==============================] - 56s 33ms/step - loss: 0.0276 - accuracy: 0.9912 - val_loss: 0.0339 - val_accuracy: 0.9907\n",
            "Epoch 5/5\n",
            "1688/1688 [==============================] - 57s 34ms/step - loss: 0.0222 - accuracy: 0.9926 - val_loss: 0.0320 - val_accuracy: 0.9907\n"
          ]
        },
        {
          "output_type": "execute_result",
          "data": {
            "text/plain": [
              "<keras.callbacks.History at 0x7fda7c7c6530>"
            ]
          },
          "metadata": {},
          "execution_count": 17
        }
      ]
    },
    {
      "cell_type": "markdown",
      "source": [
        "Custom Call Back"
      ],
      "metadata": {
        "id": "lBwJW7ZSfahS"
      }
    },
    {
      "cell_type": "code",
      "source": [
        "class CustomCallback(tf.keras.callbacks.Callback):\n",
        "    def on_epoch_end(self, epoch, logs=None):\n",
        "        if logs.get('accuracy') > 0.95:\n",
        "            print(\"\\nReached 95% accuracy, stopping training.\")\n",
        "            self.model.stop_training = True\n",
        "\n",
        "# Model with custom callback\n",
        "model = models.Sequential([\n",
        "    layers.Conv2D(32, kernel_size=(3, 3), activation='relu', input_shape=(28, 28, 1)),\n",
        "    layers.MaxPooling2D(pool_size=(2, 2)),\n",
        "    layers.Conv2D(64, kernel_size=(3, 3), activation='relu'),\n",
        "    layers.MaxPooling2D(pool_size=(2, 2)),\n",
        "    layers.Flatten(),\n",
        "    layers.Dense(128, activation='relu'),\n",
        "    layers.Dropout(0.2),\n",
        "    layers.Dense(10, activation='softmax')\n",
        "])\n",
        "\n",
        "model.compile(optimizer='adam',\n",
        "              loss=tf.keras.losses.SparseCategoricalCrossentropy(),\n",
        "              metrics=['accuracy'])\n",
        "\n",
        "model.fit(x_train, y_train, epochs=5, validation_split=0.1, callbacks=[CustomCallback()])\n"
      ],
      "metadata": {
        "id": "u2aceSG2fbGl"
      },
      "execution_count": null,
      "outputs": []
    },
    {
      "cell_type": "markdown",
      "source": [
        "Custom Layer"
      ],
      "metadata": {
        "id": "4NlgIf-Qhpad"
      }
    },
    {
      "cell_type": "code",
      "source": [
        "class CustomLayer(layers.Layer):\n",
        "    def __init__(self, units=32, **kwargs):\n",
        "        super(CustomLayer, self).__init__(**kwargs)\n",
        "        self.units = units\n",
        "\n",
        "    def build(self, input_shape):\n",
        "        self.w = self.add_weight(shape=(input_shape[-1], self.units),\n",
        "                                 initializer='random_normal',\n",
        "                                 trainable=True)\n",
        "        self.b = self.add_weight(shape=(self.units,),\n",
        "                                 initializer='zeros',\n",
        "                                 trainable=True)\n",
        "\n",
        "    def call(self, inputs):\n",
        "        return tf.matmul(inputs, self.w) + self.b\n",
        "\n",
        "# Model with custom layer\n",
        "model = models.Sequential([\n",
        "    layers.Conv2D(32, kernel_size=(3, 3), activation='relu', input_shape=(28, 28, 1)),\n",
        "    layers.MaxPooling2D(pool_size=(2, 2)),\n",
        "    layers.Conv2D(64, kernel_size=(3, 3), activation='relu'),\n",
        "    layers.MaxPooling2D(pool_size=(2, 2)),\n",
        "    layers.Flatten(),\n",
        "    CustomLayer(128),\n",
        "    layers.Activation('relu'),\n",
        "    layers.Dropout(0.2),\n",
        "    layers.Dense(10, activation='softmax')\n",
        "])\n",
        "\n",
        "model.compile(optimizer='adam',\n",
        "              loss=tf.keras.losses.SparseCategoricalCrossentropy(),\n",
        "              metrics=['accuracy'])\n",
        "\n",
        "model.fit(x_train, y_train, epochs=5, validation_split=0.1)\n"
      ],
      "metadata": {
        "id": "J9U1OuFRhp-G"
      },
      "execution_count": null,
      "outputs": []
    },
    {
      "cell_type": "markdown",
      "source": [
        "Custom Model"
      ],
      "metadata": {
        "id": "M-HQSJP-h6Iu"
      }
    },
    {
      "cell_type": "code",
      "source": [
        "class CustomModel(models.Model):\n",
        "    def __init__(self):\n",
        "        super(CustomModel, self).__init__()\n",
        "        self.conv1 = layers.Conv2D(32, kernel_size=(3, 3), activation='relu')\n",
        "        self.max_pool1 = layers.MaxPooling2D(pool_size=(2, 2))\n",
        "        self.conv2 = layers.Conv2D(64, kernel_size=(3, 3), activation='relu')\n",
        "        self.max_pool2 = layers.MaxPooling2D(pool_size=(2, 2))\n",
        "        self.flatten = layers.Flatten()\n",
        "        self.dense1 = layers.Dense(128, activation='relu')\n",
        "        self.dropout = layers.Dropout(0.2)\n",
        "        self.dense2 = layers.Dense(10, activation='softmax')\n",
        "\n",
        "    def call(self, inputs):\n",
        "        x = self.conv1(inputs)\n",
        "        x = self.max_pool1(x)\n",
        "        x = self.conv2(x)\n",
        "        x = self.max_pool2(x)\n",
        "        x = self.flatten(x)\n",
        "        x = self.dense1(x)\n",
        "        x = self.dropout(x)\n",
        "        return self.dense2(x)\n",
        "\n",
        "# Model with custom model\n",
        "model = CustomModel()\n",
        "\n",
        "model.compile(optimizer='adam',\n",
        "              loss=tf.keras.losses.SparseCategoricalCrossentropy(),\n",
        "              metrics=['accuracy'])\n",
        "\n",
        "model.fit(x_train, y_train, epochs=5, validation_split=0.1)\n"
      ],
      "metadata": {
        "id": "NZjUpwfyh4Cc"
      },
      "execution_count": null,
      "outputs": []
    },
    {
      "cell_type": "markdown",
      "source": [
        "Custom Training Loop"
      ],
      "metadata": {
        "id": "A2uA1pM7iK95"
      }
    },
    {
      "cell_type": "code",
      "source": [
        "# Model\n",
        "model = models.Sequential([\n",
        "    layers.Conv2D(32, kernel_size=(3, 3), activation='relu', input_shape=(28, 28, 1)),\n",
        "    layers.MaxPooling2D(pool_size=(2, 2)),\n",
        "    layers.Conv2D(64, kernel_size=(3, 3), activation='relu'),\n",
        "    layers.MaxPooling2D(pool_size=(2, 2)),\n",
        "    layers.Flatten(),\n",
        "    layers.Dense(128, activation='relu'),\n",
        "    layers.Dropout(0.2),\n",
        "    layers.Dense(10, activation='softmax')\n",
        "])\n",
        "\n",
        "loss_fn = tf.keras.losses.SparseCategoricalCrossentropy()\n",
        "optimizer = tf.keras.optimizers.Adam()\n",
        "\n",
        "# Custom training loop\n",
        "@tf.function\n",
        "def train_step(images, labels):\n",
        "    with tf.GradientTape() as tape:\n",
        "        predictions = model(images)\n",
        "        loss = loss_fn(labels, predictions)\n",
        "    gradients = tape.gradient(loss, model.trainable_variables)\n",
        "    optimizer.apply_gradients(zip(gradients, model.trainable_variables))\n",
        "    return loss\n",
        "\n",
        "train_dataset = tf.data.Dataset.from_tensor_slices((x_train, y_train)).shuffle(10000).batch(32)\n",
        "\n",
        "for epoch in range(5):\n",
        "    for step, (images, labels) in enumerate(train_dataset):\n",
        "        loss = train_step(images, labels)\n",
        "        if step % 100 == 0:\n",
        "            print(f\"Epoch {epoch + 1}, Step {step}, Loss {loss.numpy()}\")\n"
      ],
      "metadata": {
        "id": "WqZrzlcpiJvy"
      },
      "execution_count": null,
      "outputs": []
    },
    {
      "cell_type": "markdown",
      "source": [
        "Custom Dropout"
      ],
      "metadata": {
        "id": "jQwqjyFPihVD"
      }
    },
    {
      "cell_type": "code",
      "source": [
        "class CustomDropout(layers.Layer):\n",
        "    def __init__(self, rate=0.2, **kwargs):\n",
        "        super(CustomDropout, self).__init__(**kwargs)\n",
        "        self.rate = rate\n",
        "\n",
        "    def call(self, inputs, training=None):\n",
        "        if training:\n",
        "            return tf.nn.dropout(inputs, rate=self.rate)\n",
        "        return inputs\n",
        "\n",
        "# Model with custom dropout\n",
        "model = models.Sequential([\n",
        "    layers.Conv2D(32, kernel_size=(3, 3), activation='relu', input_shape=(28, 28, 1)),\n",
        "    layers.MaxPooling2D(pool_size=(2, 2)),\n",
        "    layers.Conv2D(64, kernel_size=(3, 3), activation='relu'),\n",
        "    layers.MaxPooling2D(pool_size=(2, 2)),\n",
        "    layers.Flatten(),\n",
        "    layers.Dense(128, activation='relu'),\n",
        "    CustomDropout(0.2),\n",
        "    layers.Dense(10, activation='softmax')\n",
        "])\n",
        "\n",
        "model.compile(optimizer='adam',\n",
        "              loss=tf.keras.losses.SparseCategoricalCrossentropy(),\n",
        "              metrics=['accuracy'])\n",
        "\n",
        "model.fit(x_train, y_train, epochs=5, validation_split=0.1)\n"
      ],
      "metadata": {
        "id": "GztAeCsMikA8"
      },
      "execution_count": null,
      "outputs": []
    },
    {
      "cell_type": "markdown",
      "source": [
        "Custom Learning Rate Scheduler"
      ],
      "metadata": {
        "id": "OvS-wT4lZOKg"
      }
    },
    {
      "cell_type": "code",
      "source": [
        "def custom_learning_rate_schedule(epoch, lr):\n",
        "    if epoch % 10 == 0 and epoch > 0:\n",
        "        return lr * 0.1\n",
        "    return lr\n",
        "\n",
        "# Model with custom learning rate scheduler\n",
        "model = models.Sequential([\n",
        "    layers.Conv2D(32, kernel_size=(3, 3), activation='relu', input_shape=(28, 28, 1)),\n",
        "    layers.MaxPooling2D(pool_size=(2, 2)),\n",
        "    layers.Conv2D(64, kernel_size=(3, 3), activation='relu'),\n",
        "    layers.MaxPooling2D(pool_size=(2, 2)),\n",
        "    layers.Flatten(),\n",
        "    layers.Dense(128, activation='relu'),\n",
        "    layers.Dropout(0.2),\n",
        "    layers.Dense(10, activation='softmax')\n",
        "])\n",
        "\n",
        "model.compile(optimizer='adam',\n",
        "              loss=tf.keras.losses.SparseCategoricalCrossentropy(),\n",
        "              metrics=['accuracy'])\n",
        "\n",
        "callback = tf.keras.callbacks.LearningRateScheduler(custom_learning_rate_schedule)\n",
        "\n",
        "model.fit(x_train, y_train, epochs=5, validation_split=0.1, callbacks=[callback])\n"
      ],
      "metadata": {
        "colab": {
          "base_uri": "https://localhost:8080/"
        },
        "id": "ovXxC3djXmSJ",
        "outputId": "17152296-6ae2-49a1-ca65-ba31eb3b2c08"
      },
      "execution_count": null,
      "outputs": [
        {
          "output_type": "stream",
          "name": "stdout",
          "text": [
            "Epoch 1/5\n",
            "1688/1688 [==============================] - 62s 36ms/step - loss: 0.1579 - accuracy: 0.9515 - val_loss: 0.0508 - val_accuracy: 0.9835 - lr: 0.0010\n",
            "Epoch 2/5\n",
            "1688/1688 [==============================] - 57s 34ms/step - loss: 0.0535 - accuracy: 0.9839 - val_loss: 0.0405 - val_accuracy: 0.9888 - lr: 0.0010\n",
            "Epoch 3/5\n",
            "1688/1688 [==============================] - 56s 33ms/step - loss: 0.0369 - accuracy: 0.9884 - val_loss: 0.0334 - val_accuracy: 0.9900 - lr: 0.0010\n",
            "Epoch 4/5\n",
            "1688/1688 [==============================] - 57s 34ms/step - loss: 0.0270 - accuracy: 0.9916 - val_loss: 0.0376 - val_accuracy: 0.9898 - lr: 0.0010\n",
            "Epoch 5/5\n",
            "1688/1688 [==============================] - 58s 34ms/step - loss: 0.0224 - accuracy: 0.9930 - val_loss: 0.0330 - val_accuracy: 0.9913 - lr: 0.0010\n"
          ]
        },
        {
          "output_type": "execute_result",
          "data": {
            "text/plain": [
              "<keras.callbacks.History at 0x7fda641d35e0>"
            ]
          },
          "metadata": {},
          "execution_count": 13
        }
      ]
    },
    {
      "cell_type": "code",
      "source": [],
      "metadata": {
        "id": "z6ABmYeBXmj7"
      },
      "execution_count": null,
      "outputs": []
    }
  ]
}